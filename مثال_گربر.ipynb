{
  "nbformat": 4,
  "nbformat_minor": 0,
  "metadata": {
    "colab": {
      "provenance": [],
      "authorship_tag": "ABX9TyOOJr4AuLjj80WUgxhPMyI4",
      "include_colab_link": true
    },
    "kernelspec": {
      "name": "python3",
      "display_name": "Python 3"
    },
    "language_info": {
      "name": "python"
    }
  },
  "cells": [
    {
      "cell_type": "markdown",
      "metadata": {
        "id": "view-in-github",
        "colab_type": "text"
      },
      "source": [
        "<a href=\"https://colab.research.google.com/github/No1377/-/blob/main/%D9%85%D8%AB%D8%A7%D9%84_%DA%AF%D8%B1%D8%A8%D8%B1.ipynb\" target=\"_parent\"><img src=\"https://colab.research.google.com/assets/colab-badge.svg\" alt=\"Open In Colab\"/></a>"
      ]
    },
    {
      "cell_type": "code",
      "execution_count": null,
      "metadata": {
        "id": "AA28xyuSNP61"
      },
      "outputs": [],
      "source": [
        "# تعریف کتابخانه های لازم\n",
        "import pandas as pd\n",
        "import math\n",
        "import io\n",
        "from scipy.stats import norm\n",
        "import numpy as np\n",
        "import matplotlib.pyplot as plt\n",
        "from google.colab import files"
      ]
    },
    {
      "cell_type": "code",
      "source": [
        "# نرخ تنزیل\n",
        "def d(i,k):\n",
        "  return (1/(1+i))**k"
      ],
      "metadata": {
        "id": "-eV_nPI1NlzU"
      },
      "execution_count": null,
      "outputs": []
    },
    {
      "cell_type": "code",
      "source": [
        "# نرخ بهره\n",
        "i=0.04"
      ],
      "metadata": {
        "id": "Q98zwR79NdHN"
      },
      "execution_count": null,
      "outputs": []
    },
    {
      "cell_type": "code",
      "source": [],
      "metadata": {
        "id": "5RlPlxz5ONc_"
      },
      "execution_count": null,
      "outputs": []
    },
    {
      "cell_type": "code",
      "source": [
        "d(i,1)"
      ],
      "metadata": {
        "colab": {
          "base_uri": "https://localhost:8080/"
        },
        "id": "w6Jj-KGPcXDv",
        "outputId": "1a9b436d-a5b8-44f5-ecda-8b391adb7001"
      },
      "execution_count": null,
      "outputs": [
        {
          "output_type": "execute_result",
          "data": {
            "text/plain": [
              "0.9615384615384615"
            ]
          },
          "metadata": {},
          "execution_count": 427
        }
      ]
    },
    {
      "cell_type": "code",
      "source": [
        "# تعریف احتمال بقا در مدل دموآر\n",
        "\n",
        "def p(x,k,w):\n",
        "  return (w-x-k)/(w-x)"
      ],
      "metadata": {
        "id": "Ica3Q4ZhNtoU"
      },
      "execution_count": null,
      "outputs": []
    },
    {
      "cell_type": "code",
      "source": [
        "# تعریف احتمال بقا در مدل وانگ\n",
        "def p_star(x,k,w,landa):\n",
        "  return float(norm.cdf(norm.ppf(p(x,k,w))- landa))"
      ],
      "metadata": {
        "id": "CYx756ZXmREf"
      },
      "execution_count": null,
      "outputs": []
    },
    {
      "cell_type": "code",
      "source": [
        "# تعریف احتمال فوت در مدل دموآر\n",
        "def q(x,k,w):\n",
        "  return(1-p(x,k,w))"
      ],
      "metadata": {
        "id": "Aj1_u9p5OAF1"
      },
      "execution_count": null,
      "outputs": []
    },
    {
      "cell_type": "code",
      "source": [
        "# تعریف احتمال فوت در مدل وانگ\n",
        "def q_star(x,k,w,landa):\n",
        "  return(1-p_star(x,k,w,landa))"
      ],
      "metadata": {
        "id": "xC1ya9IAmYxg"
      },
      "execution_count": null,
      "outputs": []
    },
    {
      "cell_type": "code",
      "source": [
        "# ارزش فعلی مزایا\n",
        "t=0\n",
        "for k in range(0,10):\n",
        "   t+= d(i,k+1) * p(40,k,100) * q(40+k,1,100)\n",
        "\n",
        "Ax=t\n",
        "print(\"Ax is \", t)\n"
      ],
      "metadata": {
        "colab": {
          "base_uri": "https://localhost:8080/"
        },
        "id": "d-IjQEYaOTUr",
        "outputId": "d47cd014-e9b6-437c-a566-16e8addd674e"
      },
      "execution_count": null,
      "outputs": [
        {
          "output_type": "stream",
          "name": "stdout",
          "text": [
            "Ax is  0.13518159632258392\n"
          ]
        }
      ]
    },
    {
      "cell_type": "code",
      "source": [],
      "metadata": {
        "id": "sxpPgxyWmxNj"
      },
      "execution_count": null,
      "outputs": []
    },
    {
      "cell_type": "code",
      "source": [
        "# ارزش فعلی حق بیمه\n",
        "r=0\n",
        "for k in range(0,10):\n",
        "   r+= d(i,k) * p(40,k,100)\n",
        "ax=r\n",
        "print(\"ax is \", r)"
      ],
      "metadata": {
        "colab": {
          "base_uri": "https://localhost:8080/"
        },
        "id": "rER94d2iPPTa",
        "outputId": "3414b00b-7bd3-4c93-db33-4025d0b94a88"
      },
      "execution_count": null,
      "outputs": [
        {
          "output_type": "stream",
          "name": "stdout",
          "text": [
            "ax is  7.848054837720509\n"
          ]
        }
      ]
    },
    {
      "cell_type": "code",
      "source": [
        "# فرمول 1-1-8-2\n",
        "piA=Ax/ax\n",
        "\n",
        "print(piA)\n"
      ],
      "metadata": {
        "colab": {
          "base_uri": "https://localhost:8080/"
        },
        "id": "fEcMgzOrQgTg",
        "outputId": "7247cde6-afa8-47e9-c2b8-1d9523a47e02"
      },
      "execution_count": null,
      "outputs": [
        {
          "output_type": "stream",
          "name": "stdout",
          "text": [
            "0.01722485368894897\n"
          ]
        }
      ]
    },
    {
      "cell_type": "code",
      "source": [
        "landa=0.1"
      ],
      "metadata": {
        "id": "nS98icnPPio4"
      },
      "execution_count": null,
      "outputs": []
    },
    {
      "cell_type": "code",
      "source": [
        "# ارزش فعلی مزایا در مدل وانگ\n",
        "t=0\n",
        "for k in range(0,10):\n",
        "   t+= d(i,k+1) * p_star(40,k,100,landa) * q_star(40+k,1,100,landa)\n",
        "Ax_star=t\n",
        "print(\"Ax_star is \", t)"
      ],
      "metadata": {
        "id": "VF-0JFIbmy7P",
        "colab": {
          "base_uri": "https://localhost:8080/"
        },
        "outputId": "563bc063-b651-474b-97a8-df1e14e2df29"
      },
      "execution_count": null,
      "outputs": [
        {
          "output_type": "stream",
          "name": "stdout",
          "text": [
            "Ax_star is  0.16959937689916418\n"
          ]
        }
      ]
    },
    {
      "cell_type": "code",
      "source": [
        "# ارزش فعلی حق بیمه در مدل وانگ\n",
        "r=0\n",
        "for k in range(0,10):\n",
        "   r+= d(i,k) * p_star(40,k,100,landa)\n",
        "ax_star=r\n",
        "print(\"ax_star is \", r)"
      ],
      "metadata": {
        "id": "Zlc7Wn-3m_4w",
        "colab": {
          "base_uri": "https://localhost:8080/"
        },
        "outputId": "b96e09da-8e50-446b-f3e3-1121e2bae7dc"
      },
      "execution_count": null,
      "outputs": [
        {
          "output_type": "stream",
          "name": "stdout",
          "text": [
            "ax_star is  7.736345986649557\n"
          ]
        }
      ]
    },
    {
      "cell_type": "code",
      "source": [
        "# فرمول 1-1-8-2 در مدل وانگ\n",
        "pi_star=Ax_star/ax_star\n",
        "print(pi_star)"
      ],
      "metadata": {
        "id": "EPqA_hrYnMGP",
        "colab": {
          "base_uri": "https://localhost:8080/"
        },
        "outputId": "356f14cf-42f5-4634-be7a-334ab80992bc"
      },
      "execution_count": null,
      "outputs": [
        {
          "output_type": "stream",
          "name": "stdout",
          "text": [
            "0.021922413655211144\n"
          ]
        }
      ]
    },
    {
      "cell_type": "code",
      "source": [
        "# نسبت حق بیمه در مدل وانگ به حالت عادی\n",
        "print(pi_star/piA)"
      ],
      "metadata": {
        "colab": {
          "base_uri": "https://localhost:8080/"
        },
        "id": "YezJJmElUuDr",
        "outputId": "2d120aaf-6e24-4eac-d195-0a856303f5b5"
      },
      "execution_count": null,
      "outputs": [
        {
          "output_type": "stream",
          "name": "stdout",
          "text": [
            "1.2727198762376721\n"
          ]
        }
      ]
    },
    {
      "cell_type": "code",
      "source": [
        "# C=100.000.000  حق بیمه در مدل وانگ و مدل معمولی با مزایای\n",
        "print(pi_star * 100000000)\n",
        "print(piA * 100000000)"
      ],
      "metadata": {
        "colab": {
          "base_uri": "https://localhost:8080/"
        },
        "id": "sNk24krbM9RZ",
        "outputId": "44a2f903-58a9-47de-ce39-66812c86ca1a"
      },
      "execution_count": null,
      "outputs": [
        {
          "output_type": "stream",
          "name": "stdout",
          "text": [
            "2192241.3655211143\n",
            "1722485.368894897\n"
          ]
        }
      ]
    },
    {
      "cell_type": "code",
      "source": [
        "# تعریف لیست\n",
        "A=[]\n",
        "B=[]"
      ],
      "metadata": {
        "id": "IFPwnr7t7HQ3"
      },
      "execution_count": null,
      "outputs": []
    },
    {
      "cell_type": "code",
      "source": [
        "# رسم نمودار برای لانداهای مختلف\n",
        "for landa in np.arange(-5,15,0.01):\n",
        "    A.append(landa)\n",
        "    # ارزش فعلی مزایا\n",
        "    t=0\n",
        "    for k in range(0,10):\n",
        "      t+= d(i,k+1) * p_star(40,k,100,landa) * q_star(40+k,1,100,landa)\n",
        "\n",
        "    Ax_star=t\n",
        "\n",
        "    # ارزش فعلی حق بیمه در مدل وانگ\n",
        "    r=0\n",
        "    for k in range(0,10):\n",
        "      r+= d(i,k) * p_star(40,k,100,landa)\n",
        "    ax_star=r\n",
        "\n",
        "    # فرمول 1-1-8-2 در مدل وانگ\n",
        "    pi_star=Ax_star/ax_star\n",
        "\n",
        "    # حق بیمه\n",
        "    D_star= pi_star * 100000000\n",
        "    B.append(D_star)"
      ],
      "metadata": {
        "id": "yHl6xVBZ5o7i"
      },
      "execution_count": null,
      "outputs": []
    },
    {
      "cell_type": "code",
      "source": [
        "# رسم نمدوار نتایج فوق\n",
        "plt.plot(A,B,label=\"حق بیمه وانگ \")\n",
        "plt.xlabel(\"landa\")\n",
        "plt.ylabel(\"premium\")\n",
        "#plt.savefig(\"chart.png\")\n",
        "plt.show()\n",
        "#files.download(\"chart.png\")"
      ],
      "metadata": {
        "colab": {
          "base_uri": "https://localhost:8080/",
          "height": 465
        },
        "id": "xSHwJEut8fKp",
        "outputId": "1a39b523-9e0f-463f-851d-7880b146bf2b"
      },
      "execution_count": null,
      "outputs": [
        {
          "output_type": "display_data",
          "data": {
            "text/plain": [
              "<Figure size 640x480 with 1 Axes>"
            ],
            "image/png": "[encoded data removed]"
          },
          "metadata": {}
        }
      ]
    },
    {
      "cell_type": "code",
      "source": [
        "# جست و جوی اولین اندیسی که در آن حق بیمه ها دیگر ثابت هستند\n",
        "for i in range(len(B)):\n",
        "  if float(B[i])==float(B[i+1]):\n",
        "    print(i)\n",
        "    break\n",
        "print(A[i])"
      ],
      "metadata": {
        "colab": {
          "base_uri": "https://localhost:8080/"
        },
        "id": "JH-KSkRq9STe",
        "outputId": "a53c045b-71ea-4e50-9ed9-ed3e4d34164f"
      },
      "execution_count": null,
      "outputs": [
        {
          "output_type": "stream",
          "name": "stdout",
          "text": [
            "1496\n",
            "9.959999999999681\n"
          ]
        }
      ]
    },
    {
      "cell_type": "code",
      "source": [
        "# حق بیمه با تابع انحراف"
      ],
      "metadata": {
        "id": "5urlRv5_GD1G"
      },
      "execution_count": null,
      "outputs": []
    },
    {
      "cell_type": "code",
      "source": [
        "# نرخ تنزیل\n",
        "def d(i,k):\n",
        "  return (1/(1+i))**k"
      ],
      "metadata": {
        "id": "6V5FU0GDQClU"
      },
      "execution_count": null,
      "outputs": []
    },
    {
      "cell_type": "code",
      "source": [
        "# نرخ بهره\n",
        "i=0.04"
      ],
      "metadata": {
        "id": "wSCGXdopGDpW"
      },
      "execution_count": null,
      "outputs": []
    },
    {
      "cell_type": "code",
      "source": [
        "d(i,1)"
      ],
      "metadata": {
        "colab": {
          "base_uri": "https://localhost:8080/"
        },
        "id": "dz8ahoC4QCng",
        "outputId": "feb34a1d-faab-4bb9-984c-b1d2d29d8739"
      },
      "execution_count": null,
      "outputs": [
        {
          "output_type": "execute_result",
          "data": {
            "text/plain": [
              "0.9615384615384615"
            ]
          },
          "metadata": {},
          "execution_count": 488
        }
      ]
    },
    {
      "cell_type": "code",
      "source": [
        "# تعریف احتمال بقا در مدل وانگ\n",
        "def p_doublestar(x,k,w,c):\n",
        "  return  (p(x,k,w)) ** c"
      ],
      "metadata": {
        "id": "MWeyyRTeGOWy"
      },
      "execution_count": null,
      "outputs": []
    },
    {
      "cell_type": "code",
      "source": [
        "# تعریف احتمال فوت در مدل وانگ\n",
        "def q_doublestar(x,k,w,c):\n",
        "  return(1-p_doublestar(x,k,w,c))"
      ],
      "metadata": {
        "id": "EDxQb6s1G-5K"
      },
      "execution_count": null,
      "outputs": []
    },
    {
      "cell_type": "code",
      "source": [
        "\n"
      ],
      "metadata": {
        "id": "rDkKVii-NDhJ"
      },
      "execution_count": null,
      "outputs": []
    },
    {
      "cell_type": "code",
      "source": [
        "c=0.5"
      ],
      "metadata": {
        "id": "jH3kDffmJZd7"
      },
      "execution_count": null,
      "outputs": []
    },
    {
      "cell_type": "code",
      "source": [
        "# ارزش فعلی مزایا در مدل وانگ\n",
        "t=0\n",
        "for k in range(0,10):\n",
        "   t+= d(i,k+1) * p_doublestar(40,k,100,c) * q_doublestar(40+k,1,100,c)\n",
        "Ax_doublestar=t\n",
        "print(\"Ax_doublestar is \", t)"
      ],
      "metadata": {
        "colab": {
          "base_uri": "https://localhost:8080/"
        },
        "id": "y6fYAJNOHnoG",
        "outputId": "792937c1-2ce3-4864-e5d7-1e67b30f1187"
      },
      "execution_count": null,
      "outputs": [
        {
          "output_type": "stream",
          "name": "stdout",
          "text": [
            "Ax_doublestar is  0.07046206916545217\n"
          ]
        }
      ]
    },
    {
      "cell_type": "code",
      "source": [
        "# ارزش فعلی حق بیمه در مدل وانگ\n",
        "r=0\n",
        "for k in range(0,10):\n",
        "   r+= d(i,k) * p_doublestar(40,k,100,c)\n",
        "ax_doublestar=r\n",
        "print(\"ax_doublestar is \", r)"
      ],
      "metadata": {
        "colab": {
          "base_uri": "https://localhost:8080/"
        },
        "id": "G_LB0lFjH2-y",
        "outputId": "6f03f39d-fb12-4f06-d144-654aa9bdcff7"
      },
      "execution_count": null,
      "outputs": [
        {
          "output_type": "stream",
          "name": "stdout",
          "text": [
            "ax_doublestar is  8.133711048346449\n"
          ]
        }
      ]
    },
    {
      "cell_type": "code",
      "source": [
        "# فرمول 1-1-8-2 در مدل وانگ\n",
        "pi_doublestar=Ax_doublestar/ax_doublestar\n",
        "print(pi_doublestar)"
      ],
      "metadata": {
        "colab": {
          "base_uri": "https://localhost:8080/"
        },
        "id": "XaXlBAvSIPDP",
        "outputId": "99fc9e95-5c8d-4a86-fb19-659f58f3fbc6"
      },
      "execution_count": null,
      "outputs": [
        {
          "output_type": "stream",
          "name": "stdout",
          "text": [
            "0.00866296684829698\n"
          ]
        }
      ]
    },
    {
      "cell_type": "code",
      "source": [
        "# C=100.000.000  حق بیمه در مدل وانگ و مدل معمولی با مزایای\n",
        "print(pi_doublestar * 100000000)\n",
        "print(piA * 100000000)"
      ],
      "metadata": {
        "colab": {
          "base_uri": "https://localhost:8080/"
        },
        "id": "NnCJqC6dIa3s",
        "outputId": "89208e07-d44e-4df0-e1d6-6da82e84e4b6"
      },
      "execution_count": null,
      "outputs": [
        {
          "output_type": "stream",
          "name": "stdout",
          "text": [
            "866296.6848296981\n",
            "1722485.368894897\n"
          ]
        }
      ]
    },
    {
      "cell_type": "code",
      "source": [
        "# تعریف لیست\n",
        "A=[]\n",
        "B=[]"
      ],
      "metadata": {
        "id": "yHcsQwYFRitv"
      },
      "execution_count": null,
      "outputs": []
    },
    {
      "cell_type": "code",
      "source": [
        "# های مختلف c رسم نمودار برای\n",
        "for c in np.arange(0,1,0.1):\n",
        "    A.append(c)\n",
        "    # ارزش فعلی مزایا در مدل وانگ\n",
        "    t=0\n",
        "    for k in range(0,10):\n",
        "      t+= d(i,k+1) * p_doublestar(40,k,100,c) * q_doublestar(40+k,1,100,c)\n",
        "    Ax_doublestar=t\n",
        "\n",
        "    # ارزش فعلی حق بیمه در مدل وانگ\n",
        "    r=0\n",
        "    for k in range(0,10):\n",
        "      r+= d(i,k) * p_doublestar(40,k,100,c)\n",
        "    ax_doublestar=r\n",
        "\n",
        "    # فرمول 1-1-8-2 در مدل وانگ\n",
        "    pi_doublestar=Ax_doublestar/ax_doublestar\n",
        "\n",
        "    # C=100.000.000 حق بیمه در مدل وانگ  با مزایای\n",
        "\n",
        "    D_doublestar=pi_doublestar * 100000000\n",
        "    B.append(D_doublestar)"
      ],
      "metadata": {
        "id": "u2UvXuj7Ql8c"
      },
      "execution_count": null,
      "outputs": []
    },
    {
      "cell_type": "code",
      "source": [
        "print(A)\n",
        "print(B)"
      ],
      "metadata": {
        "colab": {
          "base_uri": "https://localhost:8080/"
        },
        "id": "FPF5gN9oTTGs",
        "outputId": "d46f6b31-1eed-43fa-b236-9b2bb75230b9"
      },
      "execution_count": null,
      "outputs": [
        {
          "output_type": "stream",
          "name": "stdout",
          "text": [
            "[0.0, 0.1, 0.2, 0.30000000000000004, 0.4, 0.5, 0.6000000000000001, 0.7000000000000001, 0.8, 0.9]\n",
            "[0.0, 174075.50958198108, 347741.6800773714, 520999.7635476188, 693851.0135041329, 866296.6848296981, 1038338.033699444, 1209976.3175013934, 1381212.7947566162, 1552048.725039034]\n"
          ]
        }
      ]
    },
    {
      "cell_type": "code",
      "source": [
        "# رسم نمدوار نتایج فوق\n",
        "plt.plot(A,B,label=\"حق بیمه وانگ \")\n",
        "plt.xlabel(\"c\")\n",
        "plt.ylabel(\"premium\")\n",
        "#plt.savefig(\"chart.png\")\n",
        "plt.show()\n",
        "#files.download(\"chart.png\")"
      ],
      "metadata": {
        "colab": {
          "base_uri": "https://localhost:8080/",
          "height": 465
        },
        "id": "-ZtJWvdvR3mU",
        "outputId": "5013ea2f-a6ba-494b-9aee-c87d9fbda2bf"
      },
      "execution_count": null,
      "outputs": [
        {
          "output_type": "display_data",
          "data": {
            "text/plain": [
              "<Figure size 640x480 with 1 Axes>"
            ],
            "image/png": "[encoded data removed]"
          },
          "metadata": {}
        },
        {
          "output_type": "display_data",
          "data": {
            "text/plain": [
              "<IPython.core.display.Javascript object>"
            ],
            "application/javascript": [
              "\n",
              "    async function download(id, filename, size) {\n",
              "      if (!google.colab.kernel.accessAllowed) {\n",
              "        return;\n",
              "      }\n",
              "      const div = document.createElement('div');\n",
              "      const label = document.createElement('label');\n",
              "      label.textContent = `Downloading \"${filename}\": `;\n",
              "      div.appendChild(label);\n",
              "      const progress = document.createElement('progress');\n",
              "      progress.max = size;\n",
              "      div.appendChild(progress);\n",
              "      document.body.appendChild(div);\n",
              "\n",
              "      const buffers = [];\n",
              "      let downloaded = 0;\n",
              "\n",
              "      const channel = await google.colab.kernel.comms.open(id);\n",
              "      // Send a message to notify the kernel that we're ready.\n",
              "      channel.send({})\n",
              "\n",
              "      for await (const message of channel.messages) {\n",
              "        // Send a message to notify the kernel that we're ready.\n",
              "        channel.send({})\n",
              "        if (message.buffers) {\n",
              "          for (const buffer of message.buffers) {\n",
              "            buffers.push(buffer);\n",
              "            downloaded += buffer.byteLength;\n",
              "            progress.value = downloaded;\n",
              "          }\n",
              "        }\n",
              "      }\n",
              "      const blob = new Blob(buffers, {type: 'application/binary'});\n",
              "      const a = document.createElement('a');\n",
              "      a.href = window.URL.createObjectURL(blob);\n",
              "      a.download = filename;\n",
              "      div.appendChild(a);\n",
              "      a.click();\n",
              "      div.remove();\n",
              "    }\n",
              "  "
            ]
          },
          "metadata": {}
        },
        {
          "output_type": "display_data",
          "data": {
            "text/plain": [
              "<IPython.core.display.Javascript object>"
            ],
            "application/javascript": [
              "download(\"download_a59510ce-a677-41ca-ab40-21bc6a70a142\", \"chart.png\", 19550)"
            ]
          },
          "metadata": {}
        }
      ]
    },
    {
      "cell_type": "code",
      "source": [
        "# dual power"
      ],
      "metadata": {
        "id": "dc9fayoDsVAx"
      },
      "execution_count": null,
      "outputs": []
    },
    {
      "cell_type": "code",
      "source": [
        "# تعریف احتمال بقا در مدل وانگ\n",
        "def p_triplestar(x,k,w,b):\n",
        "  return  1-((1-p(x,k,w)) ** b)"
      ],
      "metadata": {
        "id": "rQcZXTRHquY_"
      },
      "execution_count": null,
      "outputs": []
    },
    {
      "cell_type": "code",
      "source": [
        "# تعریف احتمال فوت در مدل وانگ\n",
        "def q_triplestar(x,k,w,b):\n",
        "  return(1-p_triplestar(x,k,w,b))"
      ],
      "metadata": {
        "id": "edBfDwyRsTf-"
      },
      "execution_count": null,
      "outputs": []
    },
    {
      "cell_type": "code",
      "source": [
        "b=1.1"
      ],
      "metadata": {
        "id": "HPRPItKxtolH"
      },
      "execution_count": null,
      "outputs": []
    },
    {
      "cell_type": "code",
      "source": [
        "# ارزش فعلی مزایا در مدل وانگ\n",
        "t=0\n",
        "for k in range(0,10):\n",
        "   t+= d(i,k+1) * p_triplestar(40,k,100,b) * q_triplestar(40+k,1,100,b)\n",
        "Ax_triplestar=t\n",
        "print(\"Ax_triplestar is \", t)"
      ],
      "metadata": {
        "colab": {
          "base_uri": "https://localhost:8080/"
        },
        "id": "WEjEiJifsn8n",
        "outputId": "1179e55e-2dec-4620-fac8-da2b8375ba90"
      },
      "execution_count": null,
      "outputs": [
        {
          "output_type": "stream",
          "name": "stdout",
          "text": [
            "Ax_triplestar is  0.09190154101929893\n"
          ]
        }
      ]
    },
    {
      "cell_type": "code",
      "source": [
        "# ارزش فعلی حق بیمه در مدل وانگ\n",
        "r=0\n",
        "for k in range(0,10):\n",
        "   r+= d(i,k) * p_triplestar(40,k,100,b)\n",
        "ax_triplestar=r\n",
        "print(\"ax_triplestar is \", r)"
      ],
      "metadata": {
        "colab": {
          "base_uri": "https://localhost:8080/"
        },
        "id": "VSqbbxiBsw6w",
        "outputId": "b926a9c5-2942-4f5d-90a9-1ffb12506932"
      },
      "execution_count": null,
      "outputs": [
        {
          "output_type": "stream",
          "name": "stdout",
          "text": [
            "ax_triplestar is  7.971805678101701\n"
          ]
        }
      ]
    },
    {
      "cell_type": "code",
      "source": [
        "# فرمول 1-1-8-2 در مدل وانگ\n",
        "pi_triplestar=Ax_triplestar/ax_triplestar\n",
        "print(pi_triplestar)"
      ],
      "metadata": {
        "colab": {
          "base_uri": "https://localhost:8080/"
        },
        "id": "gg2Ef4IgtI36",
        "outputId": "c350b040-4efd-4b11-8869-d42f62089623"
      },
      "execution_count": null,
      "outputs": [
        {
          "output_type": "stream",
          "name": "stdout",
          "text": [
            "0.011528321779311502\n"
          ]
        }
      ]
    },
    {
      "cell_type": "code",
      "source": [
        "# C=100.000.000  حق بیمه در مدل وانگ و مدل معمولی با مزایای\n",
        "print(pi_triplestar * 100000000)\n",
        "print(piA * 100000000)"
      ],
      "metadata": {
        "colab": {
          "base_uri": "https://localhost:8080/"
        },
        "id": "tocBni69tcBA",
        "outputId": "48ec6a60-88a3-44f0-d613-3586b452a350"
      },
      "execution_count": null,
      "outputs": [
        {
          "output_type": "stream",
          "name": "stdout",
          "text": [
            "1152832.1779311502\n",
            "1722485.368894897\n"
          ]
        }
      ]
    },
    {
      "cell_type": "code",
      "source": [
        "# تعریف لیست\n",
        "A=[]\n",
        "B=[]"
      ],
      "metadata": {
        "id": "JAbAnSYltcC5"
      },
      "execution_count": null,
      "outputs": []
    },
    {
      "cell_type": "code",
      "source": [
        "# های مختلف c رسم نمودار برای\n",
        "for b in np.arange(1,4,0.1):\n",
        "    A.append(b)\n",
        "    # ارزش فعلی مزایا در مدل وانگ\n",
        "    t=0\n",
        "    for k in range(0,10):\n",
        "      t+= d(i,k+1) * p_triplestar(40,k,100,b) * q_triplestar(40+k,1,100,b)\n",
        "    Ax_triplestar=t\n",
        "    # ارزش فعلی حق بیمه در مدل وانگ\n",
        "    r=0\n",
        "    for k in range(0,10):\n",
        "      r+= d(i,k) * p_triplestar(40,k,100,b)\n",
        "    ax_triplestar=r\n",
        "    # فرمول 1-1-8-2 در مدل وانگ\n",
        "    pi_triplestar=Ax_triplestar/ax_triplestar\n",
        "    # C=100.000.000  حق بیمه در مدل وانگ با مزایای\n",
        "    C_triplestar=pi_triplestar * 100000000\n",
        "    B.append(C_triplestar)"
      ],
      "metadata": {
        "id": "-BHiLk01vjGm"
      },
      "execution_count": null,
      "outputs": []
    },
    {
      "cell_type": "code",
      "source": [
        "print(A)\n",
        "print(B)"
      ],
      "metadata": {
        "colab": {
          "base_uri": "https://localhost:8080/"
        },
        "id": "MJWwTas6wwMh",
        "outputId": "e67eea42-a046-48a9-9698-f0bf2406cbb0"
      },
      "execution_count": null,
      "outputs": [
        {
          "output_type": "stream",
          "name": "stdout",
          "text": [
            "[1.0, 1.1, 1.2000000000000002, 1.3000000000000003, 1.4000000000000004, 1.5000000000000004, 1.6000000000000005, 1.7000000000000006, 1.8000000000000007, 1.9000000000000008, 2.000000000000001, 2.100000000000001, 2.200000000000001, 2.300000000000001, 2.4000000000000012, 2.5000000000000013, 2.6000000000000014, 2.7000000000000015, 2.8000000000000016, 2.9000000000000017, 3.0000000000000018, 3.100000000000002, 3.200000000000002, 3.300000000000002, 3.400000000000002, 3.500000000000002, 3.6000000000000023, 3.7000000000000024, 3.8000000000000025, 3.9000000000000026]\n",
            "[1722485.368894897, 1152832.1779311502, 771586.0672381147, 516426.3856302699, 345650.35400381, 231349.98480510735, 154848.0030760468, 103644.31673022317, 69372.83227447921, 46434.18710805949, 31080.734971076487, 20804.16503888774, 13925.649342579985, 9321.533009728118, 6239.739997336935, 4176.893668034079, 2796.0735428728894, 1871.7697933566185, 1253.0411668194117, 838.8564565133609, 561.5904046727261, 375.97735898683914, 251.717802854728, 168.52976122092375, 112.83657456606205, 75.54991041146059, 50.585834762704685, 33.87153761954112, 22.680468766195546, 15.187292206873526]\n"
          ]
        }
      ]
    },
    {
      "cell_type": "code",
      "source": [
        "# رسم نمدوار نتایج فوق\n",
        "plt.plot(A,B,label=\"حق بیمه وانگ \")\n",
        "plt.xlabel(\"b\")\n",
        "plt.ylabel(\"premium\")\n",
        "#plt.savefig(\"chart.png\")\n",
        "plt.show()\n",
        "#files.download(\"chart.png\")"
      ],
      "metadata": {
        "colab": {
          "base_uri": "https://localhost:8080/",
          "height": 465
        },
        "id": "lDRcvq8wwll9",
        "outputId": "da766c57-cf7c-45b5-f155-b7243e89200c"
      },
      "execution_count": null,
      "outputs": [
        {
          "output_type": "display_data",
          "data": {
            "text/plain": [
              "<Figure size 640x480 with 1 Axes>"
            ],
            "image/png": "[encoded data removed]"
          },
          "metadata": {}
        },
        {
          "output_type": "display_data",
          "data": {
            "text/plain": [
              "<IPython.core.display.Javascript object>"
            ],
            "application/javascript": [
              "\n",
              "    async function download(id, filename, size) {\n",
              "      if (!google.colab.kernel.accessAllowed) {\n",
              "        return;\n",
              "      }\n",
              "      const div = document.createElement('div');\n",
              "      const label = document.createElement('label');\n",
              "      label.textContent = `Downloading \"${filename}\": `;\n",
              "      div.appendChild(label);\n",
              "      const progress = document.createElement('progress');\n",
              "      progress.max = size;\n",
              "      div.appendChild(progress);\n",
              "      document.body.appendChild(div);\n",
              "\n",
              "      const buffers = [];\n",
              "      let downloaded = 0;\n",
              "\n",
              "      const channel = await google.colab.kernel.comms.open(id);\n",
              "      // Send a message to notify the kernel that we're ready.\n",
              "      channel.send({})\n",
              "\n",
              "      for await (const message of channel.messages) {\n",
              "        // Send a message to notify the kernel that we're ready.\n",
              "        channel.send({})\n",
              "        if (message.buffers) {\n",
              "          for (const buffer of message.buffers) {\n",
              "            buffers.push(buffer);\n",
              "            downloaded += buffer.byteLength;\n",
              "            progress.value = downloaded;\n",
              "          }\n",
              "        }\n",
              "      }\n",
              "      const blob = new Blob(buffers, {type: 'application/binary'});\n",
              "      const a = document.createElement('a');\n",
              "      a.href = window.URL.createObjectURL(blob);\n",
              "      a.download = filename;\n",
              "      div.appendChild(a);\n",
              "      a.click();\n",
              "      div.remove();\n",
              "    }\n",
              "  "
            ]
          },
          "metadata": {}
        },
        {
          "output_type": "display_data",
          "data": {
            "text/plain": [
              "<IPython.core.display.Javascript object>"
            ],
            "application/javascript": [
              "download(\"download_330054b4-f915-4086-ad2a-5c9a384ca08e\", \"chart.png\", 18386)"
            ]
          },
          "metadata": {}
        }
      ]
    }
  ]
}