{
  "cells": [
    {
      "cell_type": "markdown",
      "metadata": {
        "id": "view-in-github",
        "colab_type": "text"
      },
      "source": [
        "<a href=\"https://colab.research.google.com/github/No1377/-/blob/main/XGBoost.ipynb\" target=\"_parent\"><img src=\"https://colab.research.google.com/assets/colab-badge.svg\" alt=\"Open In Colab\"/></a>"
      ]
    },
    {
      "cell_type": "code",
      "execution_count": null,
      "metadata": {
        "colab": {
          "base_uri": "https://localhost:8080/"
        },
        "id": "I4CVfjFy1YuU",
        "outputId": "e996aec2-4393-4245-cec8-515a25e9184b"
      },
      "outputs": [
        {
          "output_type": "stream",
          "name": "stdout",
          "text": [
            "      Gender  Age  Smoker  Disease  Jobs  Benefit  Duration     Premuim  \\\n",
            "0          0   55       1        0     0      739         3    6.809303   \n",
            "1          1   75       1        1     1     4267         5  415.161618   \n",
            "2          0   52       1        0     0      746        28   11.021023   \n",
            "3          0   23       1        0     1     5985        54   27.919633   \n",
            "4          0   10       0        0     0     6769         7   17.098726   \n",
            "...      ...  ...     ...      ...   ...      ...       ...         ...   \n",
            "9995       1   70       1        1     1     4643        10  338.066638   \n",
            "9996       0   38       1        0     0     6676        42   46.097466   \n",
            "9997       1   31       1        1     1     7437        49   54.901634   \n",
            "9998       1   64       0        1     1     4994         1  129.652353   \n",
            "9999       0   43       0        0     0     9526        11   45.765155   \n",
            "\n",
            "         landa  \n",
            "0     0.156738  \n",
            "1     0.384277  \n",
            "2     0.141113  \n",
            "3     0.340332  \n",
            "4     0.477051  \n",
            "...        ...  \n",
            "9995  0.370605  \n",
            "9996  0.206543  \n",
            "9997  0.384277  \n",
            "9998  0.276855  \n",
            "9999  0.183105  \n",
            "\n",
            "[10000 rows x 9 columns]\n"
          ]
        }
      ],
      "source": [
        "import numpy as np\n",
        "import pandas as pd\n",
        "import math\n",
        "from scipy.stats import norm\n",
        "import xgboost as xgb\n",
        "from sklearn.model_selection import RandomizedSearchCV, train_test_split\n",
        "from sklearn.metrics import mean_squared_error\n",
        "data = pd.read_csv('/content/drive/MyDrive/data2_full_10000n.csv')\n",
        "df2 = pd.read_excel(\"/content/drive/MyDrive/جدول مرگ و میر ایران.xlsx\")\n",
        "\n",
        "number_of_data = len(data['Age'])\n",
        "print(data)\n",
        "# تابع تخفیف\n",
        "def d(v, k):\n",
        "    return (1 / (1 + v)) ** k\n",
        "\n",
        "v = 0.1\n",
        "\n",
        "# تابع محاسبه احتمال زنده ماندن\n",
        "def p(x, k):\n",
        "    t = 1\n",
        "    for i in range(0, k):\n",
        "        t *= df2[\"p_x\"][x + i]\n",
        "    return t\n",
        "\n",
        "# تابع تعدیل احتمال\n",
        "def p_star(x, k, landa):\n",
        "    return float(norm.cdf(norm.ppf(p(x, k)) - landa))\n",
        "\n",
        "# تابع محاسبه احتمال مرگ\n",
        "def q(x, k):\n",
        "    return 1 - p(x, k)\n",
        "\n",
        "# تابع تعدیل احتمال مرگ\n",
        "def q_star(x, k, landa):\n",
        "    return 1 - p_star(x, k, landa)"
      ]
    },
    {
      "cell_type": "code",
      "execution_count": null,
      "metadata": {
        "id": "f0iqc9GiB83X"
      },
      "outputs": [],
      "source": [
        "import numpy as np\n",
        "import pandas as pd\n",
        "import math\n",
        "from scipy.stats import norm\n",
        "import xgboost as xgb\n",
        "from sklearn.model_selection import RandomizedSearchCV, train_test_split\n",
        "from sklearn.metrics import mean_squared_error\n",
        "from sklearn.ensemble import RandomForestRegressor\n",
        "from sklearn.model_selection import GridSearchCV, train_test_split\n",
        "from sklearn.metrics import mean_squared_error"
      ]
    },
    {
      "cell_type": "code",
      "execution_count": null,
      "metadata": {
        "colab": {
          "base_uri": "https://localhost:8080/"
        },
        "id": "2_3ubedOCRFu",
        "outputId": "5404af77-3de4-4d6b-8b48-4ce3b0797360"
      },
      "outputs": [
        {
          "output_type": "stream",
          "name": "stdout",
          "text": [
            "XGBoost version: 2.1.3\n",
            "Scikit-learn version: 1.6.0\n"
          ]
        }
      ],
      "source": [
        "import xgboost as xgb\n",
        "import sklearn\n",
        "print(f\"XGBoost version: {xgb.__version__}\")\n",
        "print(f\"Scikit-learn version: {sklearn.__version__}\")"
      ]
    },
    {
      "cell_type": "code",
      "source": [
        "import xgboost as xgb\n",
        "from sklearn.model_selection import train_test_split\n",
        "from sklearn.metrics import mean_squared_error\n",
        "import numpy as np\n",
        "\n",
        "# داده نمونه\n",
        "X = np.random.rand(100, 7)\n",
        "y = np.random.rand(100)\n",
        "\n",
        "X_train, X_test, y_train, y_test = train_test_split(X, y, test_size=0.2, random_state=42)\n",
        "\n",
        "# مدل XGBoost\n",
        "model = xgb.XGBRegressor(objective='reg:squarederror', random_state=42)\n",
        "model.fit(X_train, y_train)\n",
        "\n",
        "# پیش‌بینی\n",
        "y_pred = model.predict(X_test)\n",
        "mse = mean_squared_error(y_test, y_pred)\n",
        "print(\"MSE:\", mse)"
      ],
      "metadata": {
        "colab": {
          "base_uri": "https://localhost:8080/"
        },
        "id": "WCcGurLiH-IR",
        "outputId": "225570bf-e0ce-4398-cd3e-2300288bbe20"
      },
      "execution_count": null,
      "outputs": [
        {
          "output_type": "stream",
          "name": "stdout",
          "text": [
            "MSE: 0.11495798300119635\n"
          ]
        }
      ]
    },
    {
      "cell_type": "code",
      "source": [
        "from sklearn.model_selection import train_test_split, RandomizedSearchCV\n",
        "from sklearn.metrics import mean_squared_error\n",
        "import xgboost as xgb\n",
        "import numpy as np\n",
        "\n",
        "def update_X_Y_and_optimize_landa_with_xgboost(data):\n",
        "    X = np.array([data['Gender'],\n",
        "                  data['Age'],\n",
        "                  data['Smoker'],\n",
        "                  data['Jobs'],\n",
        "                  data['Disease'],\n",
        "                  data['Duration'],\n",
        "                  data['Benefit']]).T\n",
        "    y = data['landa']\n",
        "\n",
        "    # تقسیم داده‌ها به آموزش و تست\n",
        "    X_train, X_test, y_train, y_test = train_test_split(X, y, test_size=0.2, random_state=42)\n",
        "\n",
        "    # اضافه کردن نویز به داده‌های آموزشی\n",
        "    X_train_noisy = X_train + np.random.normal(0, 0.05, X_train.shape)\n",
        "\n",
        "    # تنظیمات جستجوی پارامترها\n",
        "    param_dist = {\n",
        "        'max_depth': range(2, 5),\n",
        "        'learning_rate': [0.05, 0.1],\n",
        "        'n_estimators': range(50, 150, 50),\n",
        "        'subsample': [0.6, 0.7],\n",
        "        'colsample_bytree': [0.6, 0.7],\n",
        "        'reg_alpha': [1, 10],\n",
        "        'reg_lambda': [10, 50]\n",
        "    }\n",
        "\n",
        "    # تعریف مدل و جستجوی پارامتر\n",
        "    model = xgb.XGBRegressor(objective='reg:squarederror', random_state=42)\n",
        "    random_search = RandomizedSearchCV(\n",
        "        estimator=model,\n",
        "        param_distributions=param_dist,\n",
        "        n_iter=20,\n",
        "        cv=3,\n",
        "        scoring='neg_mean_squared_error',\n",
        "        random_state=42,\n",
        "        n_jobs=-1\n",
        "    )\n",
        "    random_search.fit(X_train_noisy, y_train)\n",
        "\n",
        "    # بهترین پارامترها\n",
        "    best_params = random_search.best_params_\n",
        "    print(\"Best Parameters:\", best_params)\n",
        "\n",
        "    # آموزش مدل با بهترین پارامترها\n",
        "    best_model = xgb.XGBRegressor(**best_params, objective='reg:squarederror', random_state=42)\n",
        "    best_model.fit(X_train_noisy, y_train)\n",
        "\n",
        "    # پیش‌بینی و محاسبه MSE\n",
        "    y_pred = best_model.predict(X_test)\n",
        "    mse = mean_squared_error(y_test, y_pred)\n",
        "    print(\"Mean Squared Error (XGBoost):\", mse)\n",
        "\n",
        "    def predict_landa(gender, age, smoker, job, disease, duration, benefit):\n",
        "        input_data = np.array([[gender, age, smoker, job, disease, duration, benefit]])\n",
        "        predicted_landa = best_model.predict(input_data)\n",
        "        return predicted_landa[0]\n",
        "\n",
        "    return predict_landa, best_model\n",
        "\n",
        "# بهینه‌سازی λ و آماده‌سازی مدل XGBoost\n",
        "predict_landa_xgb, best_model_xgb = update_X_Y_and_optimize_landa_with_xgboost(data)"
      ],
      "metadata": {
        "colab": {
          "base_uri": "https://localhost:8080/",
          "height": 376
        },
        "id": "zOV91V43JLUf",
        "outputId": "6e2e67e4-ba16-49d9-ef62-ab2ce93041c4"
      },
      "execution_count": null,
      "outputs": [
        {
          "output_type": "stream",
          "name": "stderr",
          "text": [
            "/usr/local/lib/python3.10/dist-packages/sklearn/utils/_tags.py:354: FutureWarning: The XGBRegressor or classes from which it inherits use `_get_tags` and `_more_tags`. Please define the `__sklearn_tags__` method, or inherit from `sklearn.base.BaseEstimator` and/or other appropriate mixins such as `sklearn.base.TransformerMixin`, `sklearn.base.ClassifierMixin`, `sklearn.base.RegressorMixin`, and `sklearn.base.OutlierMixin`. From scikit-learn 1.7, not defining `__sklearn_tags__` will raise an error.\n",
            "  warnings.warn(\n"
          ]
        },
        {
          "output_type": "error",
          "ename": "AttributeError",
          "evalue": "'super' object has no attribute '__sklearn_tags__'",
          "traceback": [
            "\u001b[0;31m---------------------------------------------------------------------------\u001b[0m",
            "\u001b[0;31mAttributeError\u001b[0m                            Traceback (most recent call last)",
            "\u001b[0;32m<ipython-input-18-78a322afc715>\u001b[0m in \u001b[0;36m<cell line: 67>\u001b[0;34m()\u001b[0m\n\u001b[1;32m     65\u001b[0m \u001b[0;34m\u001b[0m\u001b[0m\n\u001b[1;32m     66\u001b[0m \u001b[0;31m# بهینه‌سازی λ و آماده‌سازی مدل XGBoost\u001b[0m\u001b[0;34m\u001b[0m\u001b[0;34m\u001b[0m\u001b[0m\n\u001b[0;32m---> 67\u001b[0;31m \u001b[0mpredict_landa_xgb\u001b[0m\u001b[0;34m,\u001b[0m \u001b[0mbest_model_xgb\u001b[0m \u001b[0;34m=\u001b[0m \u001b[0mupdate_X_Y_and_optimize_landa_with_xgboost\u001b[0m\u001b[0;34m(\u001b[0m\u001b[0mdata\u001b[0m\u001b[0;34m)\u001b[0m\u001b[0;34m\u001b[0m\u001b[0;34m\u001b[0m\u001b[0m\n\u001b[0m",
            "\u001b[0;32m<ipython-input-18-78a322afc715>\u001b[0m in \u001b[0;36mupdate_X_Y_and_optimize_landa_with_xgboost\u001b[0;34m(data)\u001b[0m\n\u001b[1;32m     42\u001b[0m         \u001b[0mn_jobs\u001b[0m\u001b[0;34m=\u001b[0m\u001b[0;34m-\u001b[0m\u001b[0;36m1\u001b[0m\u001b[0;34m\u001b[0m\u001b[0;34m\u001b[0m\u001b[0m\n\u001b[1;32m     43\u001b[0m     )\n\u001b[0;32m---> 44\u001b[0;31m     \u001b[0mrandom_search\u001b[0m\u001b[0;34m.\u001b[0m\u001b[0mfit\u001b[0m\u001b[0;34m(\u001b[0m\u001b[0mX_train_noisy\u001b[0m\u001b[0;34m,\u001b[0m \u001b[0my_train\u001b[0m\u001b[0;34m)\u001b[0m\u001b[0;34m\u001b[0m\u001b[0;34m\u001b[0m\u001b[0m\n\u001b[0m\u001b[1;32m     45\u001b[0m \u001b[0;34m\u001b[0m\u001b[0m\n\u001b[1;32m     46\u001b[0m     \u001b[0;31m# بهترین پارامترها\u001b[0m\u001b[0;34m\u001b[0m\u001b[0;34m\u001b[0m\u001b[0m\n",
            "\u001b[0;32m/usr/local/lib/python3.10/dist-packages/sklearn/base.py\u001b[0m in \u001b[0;36mwrapper\u001b[0;34m(estimator, *args, **kwargs)\u001b[0m\n\u001b[1;32m   1387\u001b[0m                 )\n\u001b[1;32m   1388\u001b[0m             ):\n\u001b[0;32m-> 1389\u001b[0;31m                 \u001b[0;32mreturn\u001b[0m \u001b[0mfit_method\u001b[0m\u001b[0;34m(\u001b[0m\u001b[0mestimator\u001b[0m\u001b[0;34m,\u001b[0m \u001b[0;34m*\u001b[0m\u001b[0margs\u001b[0m\u001b[0;34m,\u001b[0m \u001b[0;34m**\u001b[0m\u001b[0mkwargs\u001b[0m\u001b[0;34m)\u001b[0m\u001b[0;34m\u001b[0m\u001b[0;34m\u001b[0m\u001b[0m\n\u001b[0m\u001b[1;32m   1390\u001b[0m \u001b[0;34m\u001b[0m\u001b[0m\n\u001b[1;32m   1391\u001b[0m         \u001b[0;32mreturn\u001b[0m \u001b[0mwrapper\u001b[0m\u001b[0;34m\u001b[0m\u001b[0;34m\u001b[0m\u001b[0m\n",
            "\u001b[0;32m/usr/local/lib/python3.10/dist-packages/sklearn/model_selection/_search.py\u001b[0m in \u001b[0;36mfit\u001b[0;34m(self, X, y, **params)\u001b[0m\n\u001b[1;32m    930\u001b[0m         \u001b[0mrouted_params\u001b[0m \u001b[0;34m=\u001b[0m \u001b[0mself\u001b[0m\u001b[0;34m.\u001b[0m\u001b[0m_get_routed_params_for_fit\u001b[0m\u001b[0;34m(\u001b[0m\u001b[0mparams\u001b[0m\u001b[0;34m)\u001b[0m\u001b[0;34m\u001b[0m\u001b[0;34m\u001b[0m\u001b[0m\n\u001b[1;32m    931\u001b[0m \u001b[0;34m\u001b[0m\u001b[0m\n\u001b[0;32m--> 932\u001b[0;31m         \u001b[0mcv_orig\u001b[0m \u001b[0;34m=\u001b[0m \u001b[0mcheck_cv\u001b[0m\u001b[0;34m(\u001b[0m\u001b[0mself\u001b[0m\u001b[0;34m.\u001b[0m\u001b[0mcv\u001b[0m\u001b[0;34m,\u001b[0m \u001b[0my\u001b[0m\u001b[0;34m,\u001b[0m \u001b[0mclassifier\u001b[0m\u001b[0;34m=\u001b[0m\u001b[0mis_classifier\u001b[0m\u001b[0;34m(\u001b[0m\u001b[0mestimator\u001b[0m\u001b[0;34m)\u001b[0m\u001b[0;34m)\u001b[0m\u001b[0;34m\u001b[0m\u001b[0;34m\u001b[0m\u001b[0m\n\u001b[0m\u001b[1;32m    933\u001b[0m         \u001b[0mn_splits\u001b[0m \u001b[0;34m=\u001b[0m \u001b[0mcv_orig\u001b[0m\u001b[0;34m.\u001b[0m\u001b[0mget_n_splits\u001b[0m\u001b[0;34m(\u001b[0m\u001b[0mX\u001b[0m\u001b[0;34m,\u001b[0m \u001b[0my\u001b[0m\u001b[0;34m,\u001b[0m \u001b[0;34m**\u001b[0m\u001b[0mrouted_params\u001b[0m\u001b[0;34m.\u001b[0m\u001b[0msplitter\u001b[0m\u001b[0;34m.\u001b[0m\u001b[0msplit\u001b[0m\u001b[0;34m)\u001b[0m\u001b[0;34m\u001b[0m\u001b[0;34m\u001b[0m\u001b[0m\n\u001b[1;32m    934\u001b[0m \u001b[0;34m\u001b[0m\u001b[0m\n",
            "\u001b[0;32m/usr/local/lib/python3.10/dist-packages/sklearn/base.py\u001b[0m in \u001b[0;36mis_classifier\u001b[0;34m(estimator)\u001b[0m\n\u001b[1;32m   1235\u001b[0m         \u001b[0;32mreturn\u001b[0m \u001b[0mgetattr\u001b[0m\u001b[0;34m(\u001b[0m\u001b[0mestimator\u001b[0m\u001b[0;34m,\u001b[0m \u001b[0;34m\"_estimator_type\"\u001b[0m\u001b[0;34m,\u001b[0m \u001b[0;32mNone\u001b[0m\u001b[0;34m)\u001b[0m \u001b[0;34m==\u001b[0m \u001b[0;34m\"classifier\"\u001b[0m\u001b[0;34m\u001b[0m\u001b[0;34m\u001b[0m\u001b[0m\n\u001b[1;32m   1236\u001b[0m \u001b[0;34m\u001b[0m\u001b[0m\n\u001b[0;32m-> 1237\u001b[0;31m     \u001b[0;32mreturn\u001b[0m \u001b[0mget_tags\u001b[0m\u001b[0;34m(\u001b[0m\u001b[0mestimator\u001b[0m\u001b[0;34m)\u001b[0m\u001b[0;34m.\u001b[0m\u001b[0mestimator_type\u001b[0m \u001b[0;34m==\u001b[0m \u001b[0;34m\"classifier\"\u001b[0m\u001b[0;34m\u001b[0m\u001b[0;34m\u001b[0m\u001b[0m\n\u001b[0m\u001b[1;32m   1238\u001b[0m \u001b[0;34m\u001b[0m\u001b[0m\n\u001b[1;32m   1239\u001b[0m \u001b[0;34m\u001b[0m\u001b[0m\n",
            "\u001b[0;32m/usr/local/lib/python3.10/dist-packages/sklearn/utils/_tags.py\u001b[0m in \u001b[0;36mget_tags\u001b[0;34m(estimator)\u001b[0m\n\u001b[1;32m    403\u001b[0m         \u001b[0;32mfor\u001b[0m \u001b[0mklass\u001b[0m \u001b[0;32min\u001b[0m \u001b[0mreversed\u001b[0m\u001b[0;34m(\u001b[0m\u001b[0mtype\u001b[0m\u001b[0;34m(\u001b[0m\u001b[0mestimator\u001b[0m\u001b[0;34m)\u001b[0m\u001b[0;34m.\u001b[0m\u001b[0mmro\u001b[0m\u001b[0;34m(\u001b[0m\u001b[0;34m)\u001b[0m\u001b[0;34m)\u001b[0m\u001b[0;34m:\u001b[0m\u001b[0;34m\u001b[0m\u001b[0;34m\u001b[0m\u001b[0m\n\u001b[1;32m    404\u001b[0m             \u001b[0;32mif\u001b[0m \u001b[0;34m\"__sklearn_tags__\"\u001b[0m \u001b[0;32min\u001b[0m \u001b[0mvars\u001b[0m\u001b[0;34m(\u001b[0m\u001b[0mklass\u001b[0m\u001b[0;34m)\u001b[0m\u001b[0;34m:\u001b[0m\u001b[0;34m\u001b[0m\u001b[0;34m\u001b[0m\u001b[0m\n\u001b[0;32m--> 405\u001b[0;31m                 \u001b[0msklearn_tags_provider\u001b[0m\u001b[0;34m[\u001b[0m\u001b[0mklass\u001b[0m\u001b[0;34m]\u001b[0m \u001b[0;34m=\u001b[0m \u001b[0mklass\u001b[0m\u001b[0;34m.\u001b[0m\u001b[0m__sklearn_tags__\u001b[0m\u001b[0;34m(\u001b[0m\u001b[0mestimator\u001b[0m\u001b[0;34m)\u001b[0m  \u001b[0;31m# type: ignore[attr-defined]\u001b[0m\u001b[0;34m\u001b[0m\u001b[0;34m\u001b[0m\u001b[0m\n\u001b[0m\u001b[1;32m    406\u001b[0m                 \u001b[0mclass_order\u001b[0m\u001b[0;34m.\u001b[0m\u001b[0mappend\u001b[0m\u001b[0;34m(\u001b[0m\u001b[0mklass\u001b[0m\u001b[0;34m)\u001b[0m\u001b[0;34m\u001b[0m\u001b[0;34m\u001b[0m\u001b[0m\n\u001b[1;32m    407\u001b[0m             \u001b[0;32melif\u001b[0m \u001b[0;34m\"_more_tags\"\u001b[0m \u001b[0;32min\u001b[0m \u001b[0mvars\u001b[0m\u001b[0;34m(\u001b[0m\u001b[0mklass\u001b[0m\u001b[0;34m)\u001b[0m\u001b[0;34m:\u001b[0m\u001b[0;34m\u001b[0m\u001b[0;34m\u001b[0m\u001b[0m\n",
            "\u001b[0;32m/usr/local/lib/python3.10/dist-packages/sklearn/base.py\u001b[0m in \u001b[0;36m__sklearn_tags__\u001b[0;34m(self)\u001b[0m\n\u001b[1;32m    611\u001b[0m \u001b[0;34m\u001b[0m\u001b[0m\n\u001b[1;32m    612\u001b[0m     \u001b[0;32mdef\u001b[0m \u001b[0m__sklearn_tags__\u001b[0m\u001b[0;34m(\u001b[0m\u001b[0mself\u001b[0m\u001b[0;34m)\u001b[0m\u001b[0;34m:\u001b[0m\u001b[0;34m\u001b[0m\u001b[0;34m\u001b[0m\u001b[0m\n\u001b[0;32m--> 613\u001b[0;31m         \u001b[0mtags\u001b[0m \u001b[0;34m=\u001b[0m \u001b[0msuper\u001b[0m\u001b[0;34m(\u001b[0m\u001b[0;34m)\u001b[0m\u001b[0;34m.\u001b[0m\u001b[0m__sklearn_tags__\u001b[0m\u001b[0;34m(\u001b[0m\u001b[0;34m)\u001b[0m\u001b[0;34m\u001b[0m\u001b[0;34m\u001b[0m\u001b[0m\n\u001b[0m\u001b[1;32m    614\u001b[0m         \u001b[0mtags\u001b[0m\u001b[0;34m.\u001b[0m\u001b[0mestimator_type\u001b[0m \u001b[0;34m=\u001b[0m \u001b[0;34m\"regressor\"\u001b[0m\u001b[0;34m\u001b[0m\u001b[0;34m\u001b[0m\u001b[0m\n\u001b[1;32m    615\u001b[0m         \u001b[0mtags\u001b[0m\u001b[0;34m.\u001b[0m\u001b[0mregressor_tags\u001b[0m \u001b[0;34m=\u001b[0m \u001b[0mRegressorTags\u001b[0m\u001b[0;34m(\u001b[0m\u001b[0;34m)\u001b[0m\u001b[0;34m\u001b[0m\u001b[0;34m\u001b[0m\u001b[0m\n",
            "\u001b[0;31mAttributeError\u001b[0m: 'super' object has no attribute '__sklearn_tags__'"
          ]
        }
      ]
    },
    {
      "cell_type": "code",
      "source": [
        "!pip install scikit-learn==1.1.3"
      ],
      "metadata": {
        "colab": {
          "base_uri": "https://localhost:8080/",
          "height": 428
        },
        "id": "Y6htrjFHJ5hU",
        "outputId": "bda11c91-e617-42e8-954f-b019a51c559c"
      },
      "execution_count": null,
      "outputs": [
        {
          "output_type": "stream",
          "name": "stdout",
          "text": [
            "Collecting scikit-learn==1.1.3\n",
            "  Downloading scikit_learn-1.1.3-cp310-cp310-manylinux_2_17_x86_64.manylinux2014_x86_64.whl.metadata (10 kB)\n",
            "Requirement already satisfied: numpy>=1.17.3 in /usr/local/lib/python3.10/dist-packages (from scikit-learn==1.1.3) (1.26.4)\n",
            "Requirement already satisfied: scipy>=1.3.2 in /usr/local/lib/python3.10/dist-packages (from scikit-learn==1.1.3) (1.13.1)\n",
            "Requirement already satisfied: joblib>=1.0.0 in /usr/local/lib/python3.10/dist-packages (from scikit-learn==1.1.3) (1.4.2)\n",
            "Requirement already satisfied: threadpoolctl>=2.0.0 in /usr/local/lib/python3.10/dist-packages (from scikit-learn==1.1.3) (3.5.0)\n",
            "Downloading scikit_learn-1.1.3-cp310-cp310-manylinux_2_17_x86_64.manylinux2014_x86_64.whl (30.5 MB)\n",
            "\u001b[2K   \u001b[90m━━━━━━━━━━━━━━━━━━━━━━━━━━━━━━━━━━━━━━━━\u001b[0m \u001b[32m30.5/30.5 MB\u001b[0m \u001b[31m24.9 MB/s\u001b[0m eta \u001b[36m0:00:00\u001b[0m\n",
            "\u001b[?25hInstalling collected packages: scikit-learn\n",
            "  Attempting uninstall: scikit-learn\n",
            "    Found existing installation: scikit-learn 1.6.0\n",
            "    Uninstalling scikit-learn-1.6.0:\n",
            "      Successfully uninstalled scikit-learn-1.6.0\n",
            "\u001b[31mERROR: pip's dependency resolver does not currently take into account all the packages that are installed. This behaviour is the source of the following dependency conflicts.\n",
            "bigframes 1.29.0 requires scikit-learn>=1.2.2, but you have scikit-learn 1.1.3 which is incompatible.\n",
            "mlxtend 0.23.3 requires scikit-learn>=1.3.1, but you have scikit-learn 1.1.3 which is incompatible.\u001b[0m\u001b[31m\n",
            "\u001b[0mSuccessfully installed scikit-learn-1.1.3\n"
          ]
        },
        {
          "output_type": "display_data",
          "data": {
            "application/vnd.colab-display-data+json": {
              "pip_warning": {
                "packages": [
                  "sklearn"
                ]
              },
              "id": "c37e3679bbfc47c3b3fba7ec96efb7ac"
            }
          },
          "metadata": {}
        }
      ]
    },
    {
      "cell_type": "code",
      "source": [
        "!kill -9 -1"
      ],
      "metadata": {
        "id": "dnGtvMi7J6hf"
      },
      "execution_count": null,
      "outputs": []
    },
    {
      "cell_type": "code",
      "execution_count": null,
      "metadata": {
        "colab": {
          "base_uri": "https://localhost:8080/"
        },
        "id": "h0wU22fnbpkn",
        "outputId": "1d3f89d0-281a-47b9-d3ef-4dee33c8030d"
      },
      "outputs": [
        {
          "output_type": "stream",
          "name": "stdout",
          "text": [
            "Mean Squared Error (XGBoost): 0.00018028073663862965\n"
          ]
        }
      ],
      "source": [
        "\n",
        "\n",
        "def update_X_Y_and_optimize_landa_with_xgboost(data):\n",
        "    X = np.array([data['Gender'],\n",
        "                  data['Age'],\n",
        "                  data['Smoker'],\n",
        "                  data['Jobs'],\n",
        "                  data['Disease'],\n",
        "                  data['Duration'],\n",
        "                  data['Benefit']]).T\n",
        "    y = data['landa']\n",
        "\n",
        "    # تقسیم داده‌ها به آموزش و تست\n",
        "    X_train, X_test, y_train, y_test = train_test_split(X, y, test_size=0.2, random_state=42)\n",
        "\n",
        "    # اضافه کردن نویز به داده‌های آموزشی\n",
        "    X_train_noisy = X_train + np.random.normal(0, 0.05, X_train.shape)\n",
        "\n",
        "    # تنظیمات ساده برای جلوگیری از Overfitting\n",
        "    param_dist = {\n",
        "        'max_depth': range(2, 5), # عمق کمتر برای کاهش پیچیدگی\n",
        "        'learning_rate': [0.05, 0.1], # کاهش نرخ یادگیری\n",
        "        'n_estimators': range(50, 150, 50), # کاهش تعداد استیماتورها\n",
        "        'subsample': [0.6, 0.7], # انتخاب بخشی از داده‌ها\n",
        "        'colsample_bytree': [0.6, 0.7], # انتخاب بخشی از ویژگی‌ها\n",
        "        'reg_alpha': [1, 10], # افزایش جریمه L1\n",
        "        'reg_lambda': [10, 50] # افزایش جریمه L2\n",
        "    }\n",
        "\n",
        "    model = xgb.XGBRegressor(objective='reg:squarederror', random_state=42)\n",
        "\n",
        "    # جستجوی تصادفی برای یافتن بهترین پارامترها\n",
        "    random_search = RandomizedSearchCV(\n",
        "        estimator=model,\n",
        "        param_distributions=param_dist,\n",
        "        n_iter=20, # تعداد تکرار جستجو کمتر\n",
        "        cv=3, # تعداد folds کمتر\n",
        "        scoring='neg_mean_squared_error',\n",
        "        random_state=42,\n",
        "        n_jobs=-1\n",
        "    )\n",
        "\n",
        "    random_search.fit(X_train_noisy, y_train)\n",
        "    best_params = random_search.best_params_\n",
        "\n",
        "    # تنظیم پارامترهای بهینه\n",
        "    params = {\n",
        "        'max_depth': best_params['max_depth'],\n",
        "        'learning_rate': best_params['learning_rate'],\n",
        "        'subsample': best_params['subsample'],\n",
        "        'colsample_bytree': best_params['colsample_bytree'],\n",
        "        'reg_alpha': best_params['reg_alpha'],\n",
        "        'reg_lambda': best_params['reg_lambda'],\n",
        "        'objective': 'reg:squarederror'\n",
        "    }\n",
        "\n",
        "    # تبدیل داده‌ها به DMatrix\n",
        "    dtrain = xgb.DMatrix(X_train_noisy, label=y_train)\n",
        "    dtest = xgb.DMatrix(X_test, label=y_test)\n",
        "\n",
        "    # آموزش مدل نهایی با Early Stopping\n",
        "    best_model = xgb.train(\n",
        "        params,\n",
        "        dtrain,\n",
        "        num_boost_round=150,\n",
        "        evals=[(dtest, \"Test\")],\n",
        "        early_stopping_rounds=5, # توقف زودهنگام\n",
        "        verbose_eval=False\n",
        "    )\n",
        "\n",
        "    # پیش‌بینی و محاسبه MSE\n",
        "    y_pred = best_model.predict(dtest)\n",
        "    mse = mean_squared_error(y_test, y_pred)\n",
        "    print(\"Mean Squared Error (XGBoost):\", mse)\n",
        "\n",
        "    def predict_landa(gender, age, smoker, job, disease, duration, benefit):\n",
        "        input_data = np.array([[gender, age, smoker, job, disease, duration, benefit]])\n",
        "        dinput = xgb.DMatrix(input_data)\n",
        "        predicted_landa = best_model.predict(dinput)\n",
        "        return predicted_landa[0]\n",
        "\n",
        "    return predict_landa, best_model\n",
        "\n",
        "# بهینه‌سازی λ و آماده‌سازی مدل XGBoost\n",
        "predict_landa_xgb, best_model_xgb = update_X_Y_and_optimize_landa_with_xgboost(data)"
      ]
    },
    {
      "cell_type": "code",
      "execution_count": null,
      "metadata": {
        "colab": {
          "base_uri": "https://localhost:8080/",
          "height": 601
        },
        "id": "X1NijXk5etjP",
        "outputId": "83d7872a-17db-4b62-d61a-061a2af27732"
      },
      "outputs": [
        {
          "output_type": "stream",
          "name": "stderr",
          "text": [
            "WARNING:matplotlib.legend:No artists with labels found to put in legend.  Note that artists whose label start with an underscore are ignored when legend() is called with no argument.\n"
          ]
        },
        {
          "output_type": "display_data",
          "data": {
            "text/plain": [
              "<Figure size 1000x600 with 1 Axes>"
            ],
            "image/png": "[encoded data removed]"
          },
          "metadata": {}
        },
        {
          "output_type": "display_data",
          "data": {
            "text/plain": [
              "<IPython.core.display.Javascript object>"
            ],
            "application/javascript": [
              "\n",
              "    async function download(id, filename, size) {\n",
              "      if (!google.colab.kernel.accessAllowed) {\n",
              "        return;\n",
              "      }\n",
              "      const div = document.createElement('div');\n",
              "      const label = document.createElement('label');\n",
              "      label.textContent = `Downloading \"${filename}\": `;\n",
              "      div.appendChild(label);\n",
              "      const progress = document.createElement('progress');\n",
              "      progress.max = size;\n",
              "      div.appendChild(progress);\n",
              "      document.body.appendChild(div);\n",
              "\n",
              "      const buffers = [];\n",
              "      let downloaded = 0;\n",
              "\n",
              "      const channel = await google.colab.kernel.comms.open(id);\n",
              "      // Send a message to notify the kernel that we're ready.\n",
              "      channel.send({})\n",
              "\n",
              "      for await (const message of channel.messages) {\n",
              "        // Send a message to notify the kernel that we're ready.\n",
              "        channel.send({})\n",
              "        if (message.buffers) {\n",
              "          for (const buffer of message.buffers) {\n",
              "            buffers.push(buffer);\n",
              "            downloaded += buffer.byteLength;\n",
              "            progress.value = downloaded;\n",
              "          }\n",
              "        }\n",
              "      }\n",
              "      const blob = new Blob(buffers, {type: 'application/binary'});\n",
              "      const a = document.createElement('a');\n",
              "      a.href = window.URL.createObjectURL(blob);\n",
              "      a.download = filename;\n",
              "      div.appendChild(a);\n",
              "      a.click();\n",
              "      div.remove();\n",
              "    }\n",
              "  "
            ]
          },
          "metadata": {}
        },
        {
          "output_type": "display_data",
          "data": {
            "text/plain": [
              "<IPython.core.display.Javascript object>"
            ],
            "application/javascript": [
              "download(\"download_adbd9689-6e21-494e-866a-061c2b4dfba7\", \"chart.png\", 24685)"
            ]
          },
          "metadata": {}
        }
      ],
      "source": [
        "import matplotlib.pyplot as plt\n",
        "import numpy as np\n",
        "from google.colab import files\n",
        "import matplotlib.pyplot as plt\n",
        "\n",
        "# استخراج اهمیت ویژگی‌ها از مدل XGBoost\n",
        "feature_importances = best_model_xgb.get_score(importance_type='weight')\n",
        "sorted_importances = sorted(feature_importances.items(), key=lambda x: x[1], reverse=True)\n",
        "\n",
        "# لیست نام ویژگی‌ها و اهمیت آن‌ها\n",
        "features = ['Gender', 'Age', 'Smoker', 'Jobs', 'Disease', 'Duration', 'Benefit']\n",
        "importance_values = [feature_importances.get(f'f{i}', 0) for i in range(len(features))]\n",
        "\n",
        "# محاسبه درصد اهمیت هر ویژگی\n",
        "importance_percentages = 100 * np.array(importance_values) / np.sum(importance_values)\n",
        "\n",
        "# ترسیم نمودار میله‌ای اهمیت ویژگی‌ها\n",
        "plt.figure(figsize=(10, 6))\n",
        "plt.barh(features, importance_percentages, color='skyblue')\n",
        "plt.xlabel(\"Feature Importance (%)\")\n",
        "plt.title(\"Feature Importance for Predicting 'landa'\")\n",
        "plt.gca().invert_yaxis()\n",
        "plt.legend()\n",
        "plt.grid(True)\n",
        "plt.savefig(\"chart.png\")\n",
        "plt.show()\n",
        "files.download(\"chart.png\")"
      ]
    },
    {
      "cell_type": "code",
      "execution_count": null,
      "metadata": {
        "colab": {
          "base_uri": "https://localhost:8080/"
        },
        "id": "QWD6kV6ccEdt",
        "outputId": "df972461-20f2-460e-d170-88af623d5591"
      },
      "outputs": [
        {
          "name": "stdout",
          "output_type": "stream",
          "text": [
            "Optimized Predicted Landa: 0.35955563\n"
          ]
        }
      ],
      "source": [
        "landa_new = predict_landa_xgb(0,70, 1,1, 1, 5, 5000)\n",
        "print(\"Optimized Predicted Landa:\", landa_new)"
      ]
    },
    {
      "cell_type": "code",
      "execution_count": null,
      "metadata": {
        "id": "1JiuQwnjcIMO"
      },
      "outputs": [],
      "source": [
        "landa=0.35955563\n",
        "gender= 0\n",
        "age=70\n",
        "smoker=1\n",
        "job=1\n",
        "disease=1\n",
        "duration=5\n",
        "benefit=5000"
      ]
    },
    {
      "cell_type": "code",
      "execution_count": null,
      "metadata": {
        "colab": {
          "base_uri": "https://localhost:8080/"
        },
        "id": "kkPSdTi0cLUG",
        "outputId": "50746cb2-b0c7-4a23-c035-5aa4e0a9794d"
      },
      "outputs": [
        {
          "name": "stdout",
          "output_type": "stream",
          "text": [
            "301.91763754361057\n",
            "145.95881877180528\n"
          ]
        }
      ],
      "source": [
        "t=0\n",
        "z=0\n",
        "for k in range(0,duration):\n",
        "   t+= d(v,k+1) * p(age,k) * q(age+k,1)\n",
        "\n",
        "Ax=t\n",
        "\n",
        "\n",
        "r=0\n",
        "for k in range(0,duration):\n",
        "   r+= d(v,k) * p(age,k)\n",
        "ax=r\n",
        "\n",
        "G = (Ax/ax) * benefit\n",
        "G_all = G + 0.002 * benefit + G * 0.2 * smoker + G * 0.5 * disease + G * 0.3 * job\n",
        "print(G_all)\n",
        "print(G)"
      ]
    },
    {
      "cell_type": "code",
      "execution_count": null,
      "metadata": {
        "colab": {
          "base_uri": "https://localhost:8080/"
        },
        "id": "tiRMSsOucN8W",
        "outputId": "5531ac5b-55bf-43c2-af4f-732c9bf92efd"
      },
      "outputs": [
        {
          "name": "stdout",
          "output_type": "stream",
          "text": [
            "307.1866694275198\n"
          ]
        }
      ],
      "source": [
        "t=0\n",
        "z=0\n",
        "for k in range(0,duration):\n",
        "   t+= d(v,k+1) * p_star(age,k,landa) * q_star(age+k,1,landa)\n",
        "\n",
        "Ax_star=t\n",
        "\n",
        "\n",
        "r=0\n",
        "for k in range(0,duration):\n",
        "   r+= d(v,k) * p_star(age,k,landa)\n",
        "ax_star=r\n",
        "\n",
        "G_star = (Ax_star/ax_star) * benefit\n",
        "print(G_star)"
      ]
    },
    {
      "cell_type": "code",
      "execution_count": null,
      "metadata": {
        "id": "t5rEDVvTeGWr"
      },
      "outputs": [],
      "source": [
        "def G_all(Age,Smoker,Job,Disease,Duration,Benefit):\n",
        "     t=0\n",
        "     z=0\n",
        "     for k in range(0,Duration):\n",
        "        t+= d(v,k+1) * p(Age,k) * q(Age+k,1)\n",
        "\n",
        "     Ax=t\n",
        "\n",
        "\n",
        "     r=0\n",
        "     for k in range(0,Duration):\n",
        "       r+= d(v,k) * p(Age,k)\n",
        "     ax=r\n",
        "\n",
        "     G = (Ax/ax) * Benefit\n",
        "     G_all = G + Benefit * 0.002 + G * 0.2 * Smoker + G * 0.5 * Disease + G * 0.3 * Job\n",
        "     return G_all"
      ]
    },
    {
      "cell_type": "code",
      "execution_count": null,
      "metadata": {
        "id": "234Ylwk8eJFy"
      },
      "outputs": [],
      "source": [
        "def G_star(Age,Duration,Benefit,landa):\n",
        "     t=0\n",
        "     z=0\n",
        "     for k in range(0,Duration):\n",
        "        t+= d(v,k+1) * p_star(Age,k,landa) * q_star(Age+k,1,landa)\n",
        "\n",
        "     Ax_star=t\n",
        "\n",
        "\n",
        "     r=0\n",
        "     for k in range(0,Duration):\n",
        "       r+= d(v,k) * p_star(Age,k,landa)\n",
        "     ax_star=r\n",
        "\n",
        "     G_sta = (Ax_star/ax_star) * Benefit\n",
        "     return G_sta"
      ]
    },
    {
      "cell_type": "code",
      "execution_count": null,
      "metadata": {
        "colab": {
          "base_uri": "https://localhost:8080/",
          "height": 449
        },
        "id": "6sKLrEymeKXJ",
        "outputId": "7a5aa8f6-67d5-4711-c054-d88de0374f11"
      },
      "outputs": [
        {
          "output_type": "display_data",
          "data": {
            "text/plain": [
              "<Figure size 640x480 with 1 Axes>"
            ],
            "image/png": "[encoded data removed]"
          },
          "metadata": {}
        },
        {
          "output_type": "display_data",
          "data": {
            "text/plain": [
              "<IPython.core.display.Javascript object>"
            ],
            "application/javascript": [
              "\n",
              "    async function download(id, filename, size) {\n",
              "      if (!google.colab.kernel.accessAllowed) {\n",
              "        return;\n",
              "      }\n",
              "      const div = document.createElement('div');\n",
              "      const label = document.createElement('label');\n",
              "      label.textContent = `Downloading \"${filename}\": `;\n",
              "      div.appendChild(label);\n",
              "      const progress = document.createElement('progress');\n",
              "      progress.max = size;\n",
              "      div.appendChild(progress);\n",
              "      document.body.appendChild(div);\n",
              "\n",
              "      const buffers = [];\n",
              "      let downloaded = 0;\n",
              "\n",
              "      const channel = await google.colab.kernel.comms.open(id);\n",
              "      // Send a message to notify the kernel that we're ready.\n",
              "      channel.send({})\n",
              "\n",
              "      for await (const message of channel.messages) {\n",
              "        // Send a message to notify the kernel that we're ready.\n",
              "        channel.send({})\n",
              "        if (message.buffers) {\n",
              "          for (const buffer of message.buffers) {\n",
              "            buffers.push(buffer);\n",
              "            downloaded += buffer.byteLength;\n",
              "            progress.value = downloaded;\n",
              "          }\n",
              "        }\n",
              "      }\n",
              "      const blob = new Blob(buffers, {type: 'application/binary'});\n",
              "      const a = document.createElement('a');\n",
              "      a.href = window.URL.createObjectURL(blob);\n",
              "      a.download = filename;\n",
              "      div.appendChild(a);\n",
              "      a.click();\n",
              "      div.remove();\n",
              "    }\n",
              "  "
            ]
          },
          "metadata": {}
        },
        {
          "output_type": "display_data",
          "data": {
            "text/plain": [
              "<IPython.core.display.Javascript object>"
            ],
            "application/javascript": [
              "download(\"download_14df69ef-f580-43a3-a27b-bad05f4aa0a5\", \"chart.png\", 24266)"
            ]
          },
          "metadata": {}
        }
      ],
      "source": [
        "from google.colab import files\n",
        "import matplotlib.pyplot as plt\n",
        "A=[]\n",
        "B=[]\n",
        "C=[]\n",
        "for j in range(10,70):\n",
        "    A.append(j)\n",
        "    landa = predict_landa_xgb(1,j, 1, 1, 1, 5, 5000)\n",
        "    b=G_all(j,1,1,1,5,5000)\n",
        "    B.append(b)\n",
        "    c=G_star(j,5,5000,landa)\n",
        "    C.append(c)\n",
        "fig, ax1= plt.subplots()\n",
        "ax1.plot(A,B,'blue',label='Classic')\n",
        "ax1.plot(A,C,'red',label='Wang')\n",
        "plt.xlabel(\"Age\")\n",
        "plt.ylabel(\"Premium\")\n",
        "plt.legend()\n",
        "plt.grid(True)\n",
        "plt.savefig(\"chart.png\")\n",
        "plt.show()\n",
        "files.download(\"chart.png\")"
      ]
    },
    {
      "cell_type": "code",
      "execution_count": null,
      "metadata": {
        "colab": {
          "base_uri": "https://localhost:8080/"
        },
        "id": "7ezSRO10eP4Z",
        "outputId": "ec9ae38c-fc6f-4b2b-c130-446d9116357b"
      },
      "outputs": [
        {
          "name": "stdout",
          "output_type": "stream",
          "text": [
            "خطا در حالت استفاده از حق بیمه وانگ: 205.98677012372812\n",
            "خطا در حالت استفاده از حق بیمه ارزش مورد انتظار: 287.6719531018372\n",
            " خطادر حالت استفاده از حق بیمه واریانس 573.945461495541\n",
            " خطادر حالت استفاده از حق بیمه انحراف معیار 205.68628081858222\n"
          ]
        }
      ],
      "source": [
        "#import random\n",
        "# تولید داده فرضی 100 تایی با شرایط جدید\n",
        "num_samples = 10000\n",
        "gender_random = np.random.randint(0, 2, num_samples)\n",
        "age_random = np.random.randint(5, 79, num_samples)\n",
        "smoker_random = np.random.randint(0, 2, num_samples)\n",
        "job_random = np.random.randint(0, 2, num_samples)\n",
        "disease_random = np.random.randint(0, 2, num_samples)\n",
        "duration_random = np.array([np.random.randint(1, 80 - age_random[i]) for i in range(num_samples)])\n",
        "benefit_random = np.random.randint(100, 10000, num_samples)\n",
        "\n",
        "data_new = pd.DataFrame({\n",
        "    'Gender': gender_random\n",
        "    ,'Age': age_random,\n",
        "    'Smoker': smoker_random, 'Jobs': job_random ,\n",
        "    'Disease': disease_random,\n",
        "    'Duration': duration_random,\n",
        "    'Benefit': benefit_random\n",
        "})\n",
        "\n",
        "# پیش‌بینی λ برای داده‌های جدید\n",
        "landaa_new = []\n",
        "for i in range(num_samples):\n",
        "    landa_new = predict_landa_xgb(data_new['Gender'][i],data_new['Age'][i], data_new['Smoker'][i],data_new['Jobs'][i] ,data_new['Disease'][i], data_new['Duration'][i], data_new['Benefit'][i])\n",
        "    landaa_new.append(landa_new)\n",
        "\n",
        "# محاسبه G_all و G_star برای داده‌های جدید\n",
        "G_all_new = []\n",
        "G_star_new = []\n",
        "o=0\n",
        "for i in range(num_samples):\n",
        "    gender= data_new['Gender'][i]\n",
        "    age = data_new['Age'][i]\n",
        "    smoker = data_new['Smoker'][i]\n",
        "    job = data_new['Jobs'][i]\n",
        "    disease = data_new['Disease'][i]\n",
        "    duration = data_new['Duration'][i]\n",
        "    benefit = data_new['Benefit'][i]\n",
        "    landa = landaa_new[i]\n",
        "    o+= benefit\n",
        "\n",
        "    # محاسبه G_star\n",
        "    t = 0\n",
        "    z=0\n",
        "    s=0\n",
        "    for k in range(0, duration):\n",
        "        t += d(v, k+1) * p_star(age, k, landa) * q_star(age+k, 1, landa)\n",
        "        z += d(v, k+1) * p(age, k) * q(age+k, 1)\n",
        "    Ax_star = t\n",
        "    Ax = z\n",
        "    r = 0\n",
        "    for k in range(0, duration):\n",
        "        r += d(v, k) * p_star(age, k, landa)\n",
        "        s += d(v, k) * p(age, k)\n",
        "    ax_star = r\n",
        "    ax = s\n",
        "    G_star = (Ax_star / ax_star) * benefit\n",
        "    G = (Ax / ax) * benefit\n",
        "    G_star_new.append(G_star)\n",
        "\n",
        "    # محاسبه G_all\n",
        "    G_all = G + 0.002 * benefit + G * 0.2 * smoker + G * 0.5 * disease + G * 0.3 * job\n",
        "    G_all_new.append(G_all)\n",
        "\n",
        "# محاسبه خطا با استفاده از توزیع پارتو\n",
        "#lambda_param = 0.0002\n",
        "#scale = 1 / lambda_param\n",
        "#random_number1=np.random.exponential(scale,num_samples)\n",
        "shape = 2.5\n",
        "scale = 100\n",
        "random_number1 = (np.random.pareto(shape, num_samples) + 1) * scale\n",
        "\n",
        "expo = (shape * scale) / (shape - 1)\n",
        "var = (((scale) **2) * shape ) / (((shape-1)**2) * (shape-2))\n",
        "A = [] # خطا برای G_all\n",
        "B = [] # خطا برای G_star\n",
        "u1=0\n",
        "u2=0\n",
        "\n",
        "C = [] # حق بیمه با اصل ارزش مورد انتظار\n",
        "D = [] # حق بیمه با اصل واریانس\n",
        "E = []\n",
        "for i in range(num_samples):\n",
        "    e = G_all_new[i]\n",
        "    w = G_star_new[i]\n",
        "    f1 = expo * 2.5\n",
        "    f2 = expo + var * 0.025\n",
        "    f3 = expo + math.sqrt(var) * 1\n",
        "    #A.append((random_number1[i]  - e) ** 2)\n",
        "    B.append((random_number1[i]  - w) ** 2)\n",
        "    C.append((random_number1[i] - f1) ** 2)\n",
        "    D.append((random_number1[i] - f2) ** 2)\n",
        "    E.append((random_number1[i] - f3) ** 2)\n",
        "    #u1 += e\n",
        "    u2 += w\n",
        "\n",
        "\n",
        "#s = sum(A) / num_samples\n",
        "s1 = sum(B) / num_samples\n",
        "s2 = sum(C) / num_samples\n",
        "s3 = sum(D) / num_samples\n",
        "s4 = sum(E) / num_samples\n",
        "#error_A = math.sqrt(s)\n",
        "error_B = math.sqrt(s1)\n",
        "error_C = math.sqrt(s2)\n",
        "error_d = math.sqrt(s3)\n",
        "error_e = math.sqrt(s4)\n",
        "#print(\"خطا در حالت استفاده از حق بیمه معمولی:\", error_A)\n",
        "print(\"خطا در حالت استفاده از حق بیمه وانگ:\", error_B)\n",
        "print(\"خطا در حالت استفاده از حق بیمه ارزش مورد انتظار:\", error_C)\n",
        "print(' خطادر حالت استفاده از حق بیمه واریانس',error_d)\n",
        "print(' خطادر حالت استفاده از حق بیمه انحراف معیار',error_e)\n",
        "#print('مجموع حق بیمه ها حالت معمولی',u1)\n",
        "#print('مجموع مزایا', o)\n"
      ]
    },
    {
      "cell_type": "code",
      "execution_count": null,
      "metadata": {
        "colab": {
          "base_uri": "https://localhost:8080/"
        },
        "id": "Jmcga3DiaVTs",
        "outputId": "f9efaad4-9d75-479c-991c-0c5018c0b5eb"
      },
      "outputs": [
        {
          "name": "stdout",
          "output_type": "stream",
          "text": [
            "random_number 133.31081315523156\n",
            "166.66666666666666\n",
            "22222.222222222223\n"
          ]
        }
      ],
      "source": [
        "shape = 2.5\n",
        "scale = 100\n",
        "random_number1 = (np.random.pareto(shape) + 1) * scale\n",
        "\n",
        "expo = (shape * scale) / (shape - 1)\n",
        "var = (((scale) **2) * shape ) / (((shape-1)**2) * (shape-2))\n",
        "print('random_number', random_number1)\n",
        "print(expo)\n",
        "print(var)"
      ]
    },
    {
      "cell_type": "code",
      "execution_count": null,
      "metadata": {
        "colab": {
          "base_uri": "https://localhost:8080/"
        },
        "id": "TTd9OnUygPG4",
        "outputId": "78b2bbe6-e286-4a56-c95e-310ed98e0b4d"
      },
      "outputs": [
        {
          "name": "stdout",
          "output_type": "stream",
          "text": [
            "خطا در حالت استفاده از حق بیمه وانگ: 1368.676188235031\n",
            "خطا در حالت استفاده از حق بیمه ارزش مورد انتظار: 1807.8689555709886\n",
            " خطادر حالت استفاده از حق بیمه واریانس 25019.634807264854\n",
            " خطادر حالت استفاده از حق بیمه انحراف معیار 1420.9721111846459\n"
          ]
        }
      ],
      "source": [
        "#import random\n",
        "# تولید داده فرضی 100 تایی با شرایط جدید\n",
        "num_samples = 10000\n",
        "gender_random = np.random.randint(0, 2, num_samples)\n",
        "age_random = np.random.randint(5, 79, num_samples)\n",
        "smoker_random = np.random.randint(0, 2, num_samples)\n",
        "job_random = np.random.randint(0, 2, num_samples)\n",
        "disease_random = np.random.randint(0, 2, num_samples)\n",
        "duration_random = np.array([np.random.randint(1, 80 - age_random[i]) for i in range(num_samples)])\n",
        "benefit_random = np.random.randint(100, 10000, num_samples)\n",
        "\n",
        "data_new = pd.DataFrame({\n",
        "    'Gender': gender_random\n",
        "    ,'Age': age_random,\n",
        "    'Smoker': smoker_random, 'Jobs': job_random ,\n",
        "    'Disease': disease_random,\n",
        "    'Duration': duration_random,\n",
        "    'Benefit': benefit_random\n",
        "})\n",
        "\n",
        "# پیش‌بینی λ برای داده‌های جدید\n",
        "landaa_new = []\n",
        "for i in range(num_samples):\n",
        "    landa_new = predict_landa_xgb(data_new['Gender'][i],data_new['Age'][i], data_new['Smoker'][i],data_new['Jobs'][i] ,data_new['Disease'][i], data_new['Duration'][i], data_new['Benefit'][i])\n",
        "    landaa_new.append(landa_new)\n",
        "\n",
        "# محاسبه G_all و G_star برای داده‌های جدید\n",
        "G_all_new = []\n",
        "G_star_new = []\n",
        "o=0\n",
        "for i in range(num_samples):\n",
        "    gender= data_new['Gender'][i]\n",
        "    age = data_new['Age'][i]\n",
        "    smoker = data_new['Smoker'][i]\n",
        "    job = data_new['Jobs'][i]\n",
        "    disease = data_new['Disease'][i]\n",
        "    duration = data_new['Duration'][i]\n",
        "    benefit = data_new['Benefit'][i]\n",
        "    landa = landaa_new[i]\n",
        "    o+= benefit\n",
        "\n",
        "    # محاسبه G_star\n",
        "    t = 0\n",
        "    z=0\n",
        "    s=0\n",
        "    for k in range(0, duration):\n",
        "        t += d(v, k+1) * p_star(age, k, landa) * q_star(age+k, 1, landa)\n",
        "        z += d(v, k+1) * p(age, k) * q(age+k, 1)\n",
        "    Ax_star = t\n",
        "    Ax = z\n",
        "    r = 0\n",
        "    for k in range(0, duration):\n",
        "        r += d(v, k) * p_star(age, k, landa)\n",
        "        s += d(v, k) * p(age, k)\n",
        "    ax_star = r\n",
        "    ax = s\n",
        "    G_star = (Ax_star / ax_star) * benefit\n",
        "    G = (Ax / ax) * benefit\n",
        "    G_star_new.append(G_star)\n",
        "\n",
        "    # محاسبه G_all\n",
        "    G_all = G + 0.002 * benefit + G * 0.2 * smoker + G * 0.5 * disease + G * 0.3 * job\n",
        "    G_all_new.append(G_all)\n",
        "\n",
        "lambda_param = 0.001\n",
        "scale = 1 / lambda_param\n",
        "random_number1=np.random.exponential(scale,num_samples)\n",
        "\n",
        "\n",
        "expo = scale\n",
        "var = (scale) ** 2\n",
        "A = [] # خطا برای G_all\n",
        "B = [] # خطا برای G_star\n",
        "u1=0\n",
        "u2=0\n",
        "\n",
        "C = [] # حق بیمه با اصل ارزش مورد انتظار\n",
        "D = [] # حق بیمه با اصل واریانس\n",
        "E = []\n",
        "for i in range(num_samples):\n",
        "    e = G_all_new[i]\n",
        "    w = G_star_new[i]\n",
        "    f1 = expo * 2.5\n",
        "    f2 = expo + var * 0.025\n",
        "    f3 = expo + math.sqrt(var) * 1\n",
        "    #A.append((random_number1[i]  - e) ** 2)\n",
        "    B.append((random_number1[i]  - w) ** 2)\n",
        "    C.append((random_number1[i] - f1) ** 2)\n",
        "    D.append((random_number1[i] - f2) ** 2)\n",
        "    E.append((random_number1[i] - f3) ** 2)\n",
        "    #u1 += e\n",
        "    u2 += w\n",
        "\n",
        "\n",
        "#s = sum(A) / num_samples\n",
        "s1 = sum(B) / num_samples\n",
        "s2 = sum(C) / num_samples\n",
        "s3 = sum(D) / num_samples\n",
        "s4 = sum(E) / num_samples\n",
        "#error_A = math.sqrt(s)\n",
        "error_B = math.sqrt(s1)\n",
        "error_C = math.sqrt(s2)\n",
        "error_d = math.sqrt(s3)\n",
        "error_e = math.sqrt(s4)\n",
        "#print(\"خطا در حالت استفاده از حق بیمه معمولی:\", error_A)\n",
        "print(\"خطا در حالت استفاده از حق بیمه وانگ:\", error_B)\n",
        "print(\"خطا در حالت استفاده از حق بیمه ارزش مورد انتظار:\", error_C)\n",
        "print(' خطادر حالت استفاده از حق بیمه واریانس',error_d)\n",
        "print(' خطادر حالت استفاده از حق بیمه انحراف معیار',error_e)\n",
        "#print('مجموع حق بیمه ها حالت معمولی',u1)\n",
        "#print('مجموع مزایا', o)"
      ]
    },
    {
      "cell_type": "code",
      "execution_count": null,
      "metadata": {
        "colab": {
          "base_uri": "https://localhost:8080/"
        },
        "id": "4RVKhYJ40tPt",
        "outputId": "0826c316-066e-43ef-8b84-5d588897ff15"
      },
      "outputs": [
        {
          "name": "stdout",
          "output_type": "stream",
          "text": [
            "65.54258225673068\n",
            "100.0\n",
            "10000.0\n"
          ]
        }
      ],
      "source": [
        "lambda_param = 0.01\n",
        "scale = 1 / lambda_param\n",
        "random_number1=np.random.exponential(scale)\n",
        "print(random_number1)\n",
        "\n",
        "expo = scale\n",
        "var = (scale) ** 2\n",
        "print(expo)\n",
        "print(var)"
      ]
    },
    {
      "cell_type": "code",
      "execution_count": null,
      "metadata": {
        "colab": {
          "base_uri": "https://localhost:8080/"
        },
        "id": "dYM_FWr35TVR",
        "outputId": "4aab3f6d-ac21-45cd-a349-b48d484e3203"
      },
      "outputs": [
        {
          "name": "stdout",
          "output_type": "stream",
          "text": [
            "خطا در حالت استفاده از حق بیمه وانگ: 5709.8163858082535\n",
            "خطا در حالت استفاده از حق بیمه ارزش مورد انتظار: 8105.438461476938\n",
            " خطادر حالت استفاده از حق بیمه واریانس 204220.95129611876\n",
            " خطادر حالت استفاده از حق بیمه انحراف معیار 4044.352590822535\n"
          ]
        }
      ],
      "source": [
        "#import random\n",
        "# تولید داده فرضی 100 تایی با شرایط جدید\n",
        "num_samples = 10000\n",
        "gender_random = np.random.randint(0, 2, num_samples)\n",
        "age_random = np.random.randint(5, 79, num_samples)\n",
        "smoker_random = np.random.randint(0, 2, num_samples)\n",
        "job_random = np.random.randint(0, 2, num_samples)\n",
        "disease_random = np.random.randint(0, 2, num_samples)\n",
        "duration_random = np.array([np.random.randint(1, 80 - age_random[i]) for i in range(num_samples)])\n",
        "benefit_random = np.random.randint(100, 10000, num_samples)\n",
        "\n",
        "data_new = pd.DataFrame({\n",
        "    'Gender': gender_random\n",
        "    ,'Age': age_random,\n",
        "    'Smoker': smoker_random, 'Jobs': job_random ,\n",
        "    'Disease': disease_random,\n",
        "    'Duration': duration_random,\n",
        "    'Benefit': benefit_random\n",
        "})\n",
        "\n",
        "# پیش‌بینی λ برای داده‌های جدید\n",
        "landaa_new = []\n",
        "for i in range(num_samples):\n",
        "    landa_new = predict_landa_xgb(data_new['Gender'][i],data_new['Age'][i], data_new['Smoker'][i],data_new['Jobs'][i] ,data_new['Disease'][i], data_new['Duration'][i], data_new['Benefit'][i])\n",
        "    landaa_new.append(landa_new)\n",
        "\n",
        "# محاسبه G_all و G_star برای داده‌های جدید\n",
        "G_all_new = []\n",
        "G_star_new = []\n",
        "o=0\n",
        "for i in range(num_samples):\n",
        "    gender= data_new['Gender'][i]\n",
        "    age = data_new['Age'][i]\n",
        "    smoker = data_new['Smoker'][i]\n",
        "    job = data_new['Jobs'][i]\n",
        "    disease = data_new['Disease'][i]\n",
        "    duration = data_new['Duration'][i]\n",
        "    benefit = data_new['Benefit'][i]\n",
        "    landa = landaa_new[i]\n",
        "    o+= benefit\n",
        "\n",
        "    # محاسبه G_star\n",
        "    t = 0\n",
        "    z=0\n",
        "    s=0\n",
        "    for k in range(0, duration):\n",
        "        t += d(v, k+1) * p_star(age, k, landa) * q_star(age+k, 1, landa)\n",
        "        z += d(v, k+1) * p(age, k) * q(age+k, 1)\n",
        "    Ax_star = t\n",
        "    Ax = z\n",
        "    r = 0\n",
        "    for k in range(0, duration):\n",
        "        r += d(v, k) * p_star(age, k, landa)\n",
        "        s += d(v, k) * p(age, k)\n",
        "    ax_star = r\n",
        "    ax = s\n",
        "    G_star = (Ax_star / ax_star) * benefit\n",
        "    G = (Ax / ax) * benefit\n",
        "    G_star_new.append(G_star)\n",
        "\n",
        "    # محاسبه G_all\n",
        "    G_all = G + 0.002 * benefit + G * 0.2 * smoker + G * 0.5 * disease + G * 0.3 * job\n",
        "    G_all_new.append(G_all)\n",
        "\n",
        "a=100\n",
        "b=10000\n",
        "random_number1= np.random.uniform(a,b,num_samples)\n",
        "\n",
        "\n",
        "expo = (a+b)/2\n",
        "var = ((b-a) **2) / 12\n",
        "A = [] # خطا برای G_all\n",
        "B = [] # خطا برای G_star\n",
        "u1=0\n",
        "u2=0\n",
        "\n",
        "C = [] # حق بیمه با اصل ارزش مورد انتظار\n",
        "D = [] # حق بیمه با اصل واریانس\n",
        "E = []\n",
        "for i in range(num_samples):\n",
        "    e = G_all_new[i]\n",
        "    w = G_star_new[i]\n",
        "    f1 = expo * 2.5\n",
        "    f2 = expo + var * 0.025\n",
        "    f3 = expo + math.sqrt(var) * 1\n",
        "    #A.append((random_number1[i]  - e) ** 2)\n",
        "    B.append((random_number1[i]  - w) ** 2)\n",
        "    C.append((random_number1[i] - f1) ** 2)\n",
        "    D.append((random_number1[i] - f2) ** 2)\n",
        "    E.append((random_number1[i] - f3) ** 2)\n",
        "    #u1 += e\n",
        "    u2 += w\n",
        "\n",
        "\n",
        "#s = sum(A) / num_samples\n",
        "s1 = sum(B) / num_samples\n",
        "s2 = sum(C) / num_samples\n",
        "s3 = sum(D) / num_samples\n",
        "s4 = sum(E) / num_samples\n",
        "#error_A = math.sqrt(s)\n",
        "error_B = math.sqrt(s1)\n",
        "error_C = math.sqrt(s2)\n",
        "error_d = math.sqrt(s3)\n",
        "error_e = math.sqrt(s4)\n",
        "#print(\"خطا در حالت استفاده از حق بیمه معمولی:\", error_A)\n",
        "print(\"خطا در حالت استفاده از حق بیمه وانگ:\", error_B)\n",
        "print(\"خطا در حالت استفاده از حق بیمه ارزش مورد انتظار:\", error_C)\n",
        "print(' خطادر حالت استفاده از حق بیمه واریانس',error_d)\n",
        "print(' خطادر حالت استفاده از حق بیمه انحراف معیار',error_e)\n",
        "#print('مجموع حق بیمه ها حالت معمولی',u1)\n",
        "#print('مجموع مزایا', o)"
      ]
    },
    {
      "cell_type": "code",
      "execution_count": null,
      "metadata": {
        "colab": {
          "base_uri": "https://localhost:8080/"
        },
        "id": "aOkeGaDs6DAK",
        "outputId": "83c6cb90-0dd6-436b-81be-ae118f7c69f7"
      },
      "outputs": [
        {
          "name": "stdout",
          "output_type": "stream",
          "text": [
            "8178.25460118054\n",
            "5050.0\n",
            "8167500.0\n"
          ]
        }
      ],
      "source": [
        "a=100\n",
        "b=10000\n",
        "random_number1= np.random.uniform(a,b)\n",
        "\n",
        "\n",
        "expo = (a+b)/2\n",
        "var = ((b-a) **2) / 12\n",
        "\n",
        "print(random_number1)\n",
        "print(expo)\n",
        "print(var)"
      ]
    },
    {
      "cell_type": "code",
      "execution_count": null,
      "metadata": {
        "colab": {
          "base_uri": "https://localhost:8080/"
        },
        "id": "x7ywDC5k7yWr",
        "outputId": "6ea24c6c-9485-4a9d-c4ad-6c9112293835"
      },
      "outputs": [
        {
          "name": "stdout",
          "output_type": "stream",
          "text": [
            "خطا در حالت استفاده از حق بیمه وانگ: 157.41826299482167\n",
            "خطا در حالت استفاده از حق بیمه ارزش مورد انتظار: 1.2574200578817873\n",
            " خطادر حالت استفاده از حق بیمه واریانس 0.13904495875366324\n",
            " خطادر حالت استفاده از حق بیمه انحراف معیار 0.19771883718124236\n"
          ]
        }
      ],
      "source": [
        "#import random\n",
        "# تولید داده فرضی 100 تایی با شرایط جدید\n",
        "num_samples = 10000\n",
        "gender_random = np.random.randint(0, 2, num_samples)\n",
        "age_random = np.random.randint(5, 79, num_samples)\n",
        "smoker_random = np.random.randint(0, 2, num_samples)\n",
        "job_random = np.random.randint(0, 2, num_samples)\n",
        "disease_random = np.random.randint(0, 2, num_samples)\n",
        "duration_random = np.array([np.random.randint(1, 80 - age_random[i]) for i in range(num_samples)])\n",
        "benefit_random = np.random.randint(100, 10000, num_samples)\n",
        "\n",
        "data_new = pd.DataFrame({\n",
        "    'Gender': gender_random\n",
        "    ,'Age': age_random,\n",
        "    'Smoker': smoker_random, 'Jobs': job_random ,\n",
        "    'Disease': disease_random,\n",
        "    'Duration': duration_random,\n",
        "    'Benefit': benefit_random\n",
        "})\n",
        "\n",
        "# پیش‌بینی λ برای داده‌های جدید\n",
        "landaa_new = []\n",
        "for i in range(num_samples):\n",
        "    landa_new = predict_landa_xgb(data_new['Gender'][i],data_new['Age'][i], data_new['Smoker'][i],data_new['Jobs'][i] ,data_new['Disease'][i], data_new['Duration'][i], data_new['Benefit'][i])\n",
        "    landaa_new.append(landa_new)\n",
        "\n",
        "# محاسبه G_all و G_star برای داده‌های جدید\n",
        "G_all_new = []\n",
        "G_star_new = []\n",
        "o=0\n",
        "for i in range(num_samples):\n",
        "    gender= data_new['Gender'][i]\n",
        "    age = data_new['Age'][i]\n",
        "    smoker = data_new['Smoker'][i]\n",
        "    job = data_new['Jobs'][i]\n",
        "    disease = data_new['Disease'][i]\n",
        "    duration = data_new['Duration'][i]\n",
        "    benefit = data_new['Benefit'][i]\n",
        "    landa = landaa_new[i]\n",
        "    o+= benefit\n",
        "\n",
        "    # محاسبه G_star\n",
        "    t = 0\n",
        "    z=0\n",
        "    s=0\n",
        "    for k in range(0, duration):\n",
        "        t += d(v, k+1) * p_star(age, k, landa) * q_star(age+k, 1, landa)\n",
        "        z += d(v, k+1) * p(age, k) * q(age+k, 1)\n",
        "    Ax_star = t\n",
        "    Ax = z\n",
        "    r = 0\n",
        "    for k in range(0, duration):\n",
        "        r += d(v, k) * p_star(age, k, landa)\n",
        "        s += d(v, k) * p(age, k)\n",
        "    ax_star = r\n",
        "    ax = s\n",
        "    G_star = (Ax_star / ax_star) * benefit\n",
        "    G = (Ax / ax) * benefit\n",
        "    G_star_new.append(G_star)\n",
        "\n",
        "    # محاسبه G_all\n",
        "    G_all = G + 0.002 * benefit + G * 0.2 * smoker + G * 0.5 * disease + G * 0.3 * job\n",
        "    G_all_new.append(G_all)\n",
        "\n",
        "a=5\n",
        "b=1\n",
        "random_number1=np.random.beta(5,1,num_samples)\n",
        "\n",
        "\n",
        "expo = a / (a+b)\n",
        "var = (a * b) / ((a+b+1) * ((a+b)**2))\n",
        "A = [] # خطا برای G_all\n",
        "B = [] # خطا برای G_star\n",
        "u1=0\n",
        "u2=0\n",
        "\n",
        "C = [] # حق بیمه با اصل ارزش مورد انتظار\n",
        "D = [] # حق بیمه با اصل واریانس\n",
        "E = []\n",
        "for i in range(num_samples):\n",
        "    e = G_all_new[i]\n",
        "    w = G_star_new[i]\n",
        "    f1 = expo * 2.5\n",
        "    f2 = expo + var * 0.025\n",
        "    f3 = expo + math.sqrt(var) * 1\n",
        "    #A.append((random_number1[i]  - e) ** 2)\n",
        "    B.append((random_number1[i]  - w) ** 2)\n",
        "    C.append((random_number1[i] - f1) ** 2)\n",
        "    D.append((random_number1[i] - f2) ** 2)\n",
        "    E.append((random_number1[i] - f3) ** 2)\n",
        "    #u1 += e\n",
        "    u2 += w\n",
        "\n",
        "\n",
        "#s = sum(A) / num_samples\n",
        "s1 = sum(B) / num_samples\n",
        "s2 = sum(C) / num_samples\n",
        "s3 = sum(D) / num_samples\n",
        "s4 = sum(E) / num_samples\n",
        "#error_A = math.sqrt(s)\n",
        "error_B = math.sqrt(s1)\n",
        "error_C = math.sqrt(s2)\n",
        "error_d = math.sqrt(s3)\n",
        "error_e = math.sqrt(s4)\n",
        "#print(\"خطا در حالت استفاده از حق بیمه معمولی:\", error_A)\n",
        "print(\"خطا در حالت استفاده از حق بیمه وانگ:\", error_B)\n",
        "print(\"خطا در حالت استفاده از حق بیمه ارزش مورد انتظار:\", error_C)\n",
        "print(' خطادر حالت استفاده از حق بیمه واریانس',error_d)\n",
        "print(' خطادر حالت استفاده از حق بیمه انحراف معیار',error_e)\n",
        "#print('مجموع حق بیمه ها حالت معمولی',u1)\n",
        "#print('مجموع مزایا', o)"
      ]
    },
    {
      "cell_type": "code",
      "execution_count": null,
      "metadata": {
        "colab": {
          "base_uri": "https://localhost:8080/"
        },
        "id": "P3kyfwbt9Haq",
        "outputId": "b0ad0039-c57a-4923-ca2a-82ab2916cc85"
      },
      "outputs": [
        {
          "name": "stdout",
          "output_type": "stream",
          "text": [
            "0.6688562215303409\n",
            "0.8333333333333334\n",
            "0.01984126984126984\n"
          ]
        }
      ],
      "source": [
        "a=5\n",
        "b=1\n",
        "random_number1=np.random.beta(5,1)\n",
        "\n",
        "\n",
        "expo = a / (a+b)\n",
        "var = (a * b) / ((a+b+1) * ((a+b)**2))\n",
        "\n",
        "print(random_number1)\n",
        "print(expo)\n",
        "print(var)"
      ]
    },
    {
      "cell_type": "code",
      "execution_count": null,
      "metadata": {
        "colab": {
          "base_uri": "https://localhost:8080/"
        },
        "id": "OzXf4ZXoHf6I",
        "outputId": "35630cac-b8b6-4620-a7a5-03139c995bd9"
      },
      "outputs": [
        {
          "name": "stdout",
          "output_type": "stream",
          "text": [
            "خطا در حالت استفاده از حق بیمه وانگ: 1008.1337615950544\n",
            "خطا در حالت استفاده از حق بیمه ارزش مورد انتظار: 1010.2578089078853\n",
            " خطادر حالت استفاده از حق بیمه واریانس 1000.2142061900611\n",
            " خطادر حالت استفاده از حق بیمه انحراف معیار 1000.3570909679105\n"
          ]
        }
      ],
      "source": [
        "#import random\n",
        "# تولید داده فرضی 100 تایی با شرایط جدید\n",
        "num_samples = 10000\n",
        "gender_random = np.random.randint(0, 2, num_samples)\n",
        "age_random = np.random.randint(5, 79, num_samples)\n",
        "smoker_random = np.random.randint(0, 2, num_samples)\n",
        "job_random = np.random.randint(0, 2, num_samples)\n",
        "disease_random = np.random.randint(0, 2, num_samples)\n",
        "duration_random = np.array([np.random.randint(1, 80 - age_random[i]) for i in range(num_samples)])\n",
        "benefit_random = np.random.randint(100, 10000, num_samples)\n",
        "\n",
        "data_new = pd.DataFrame({\n",
        "    'Gender': gender_random\n",
        "    ,'Age': age_random,\n",
        "    'Smoker': smoker_random, 'Jobs': job_random ,\n",
        "    'Disease': disease_random,\n",
        "    'Duration': duration_random,\n",
        "    'Benefit': benefit_random\n",
        "})\n",
        "\n",
        "# پیش‌بینی λ برای داده‌های جدید\n",
        "landaa_new = []\n",
        "for i in range(num_samples):\n",
        "    landa_new = predict_landa_xgb(data_new['Gender'][i],data_new['Age'][i], data_new['Smoker'][i],data_new['Jobs'][i] ,data_new['Disease'][i], data_new['Duration'][i], data_new['Benefit'][i])\n",
        "    landaa_new.append(landa_new)\n",
        "\n",
        "# محاسبه G_all و G_star برای داده‌های جدید\n",
        "G_all_new = []\n",
        "G_star_new = []\n",
        "o=0\n",
        "for i in range(num_samples):\n",
        "    gender= data_new['Gender'][i]\n",
        "    age = data_new['Age'][i]\n",
        "    smoker = data_new['Smoker'][i]\n",
        "    job = data_new['Jobs'][i]\n",
        "    disease = data_new['Disease'][i]\n",
        "    duration = data_new['Duration'][i]\n",
        "    benefit = data_new['Benefit'][i]\n",
        "    landa = landaa_new[i]\n",
        "    o+= benefit\n",
        "\n",
        "    # محاسبه G_star\n",
        "    t = 0\n",
        "    z=0\n",
        "    s=0\n",
        "    for k in range(0, duration):\n",
        "        t += d(v, k+1) * p_star(age, k, landa) * q_star(age+k, 1, landa)\n",
        "        z += d(v, k+1) * p(age, k) * q(age+k, 1)\n",
        "    Ax_star = t\n",
        "    Ax = z\n",
        "    r = 0\n",
        "    for k in range(0, duration):\n",
        "        r += d(v, k) * p_star(age, k, landa)\n",
        "        s += d(v, k) * p(age, k)\n",
        "    ax_star = r\n",
        "    ax = s\n",
        "    G_star = (Ax_star / ax_star) * benefit\n",
        "    G = (Ax / ax) * benefit\n",
        "    G_star_new.append(G_star)\n",
        "\n",
        "    # محاسبه G_all\n",
        "    G_all = G + 0.002 * benefit + G * 0.2 * smoker + G * 0.5 * disease + G * 0.3 * job\n",
        "    G_all_new.append(G_all)\n",
        "\n",
        "# محاسبه خطا با استفاده از توزیع پارتو\n",
        "mio = 100\n",
        "sigma2 = 1000\n",
        "random_number1=np.random.normal(mio,sigma2,num_samples)\n",
        "\n",
        "\n",
        "expo = mio\n",
        "var = sigma2\n",
        "A = [] # خطا برای G_all\n",
        "B = [] # خطا برای G_star\n",
        "u1=0\n",
        "u2=0\n",
        "\n",
        "C = [] # حق بیمه با اصل ارزش مورد انتظار\n",
        "D = [] # حق بیمه با اصل واریانس\n",
        "E = []\n",
        "for i in range(num_samples):\n",
        "    e = G_all_new[i]\n",
        "    w = G_star_new[i]\n",
        "    f1 = expo * 2.5\n",
        "    f2 = expo + var * 0.025\n",
        "    f3 = expo + math.sqrt(var) * 1\n",
        "    #A.append((random_number1[i]  - e) ** 2)\n",
        "    B.append((random_number1[i]  - w) ** 2)\n",
        "    C.append((random_number1[i] - f1) ** 2)\n",
        "    D.append((random_number1[i] - f2) ** 2)\n",
        "    E.append((random_number1[i] - f3) ** 2)\n",
        "    #u1 += e\n",
        "    u2 += w\n",
        "\n",
        "\n",
        "#s = sum(A) / num_samples\n",
        "s1 = sum(B) / num_samples\n",
        "s2 = sum(C) / num_samples\n",
        "s3 = sum(D) / num_samples\n",
        "s4 = sum(E) / num_samples\n",
        "#error_A = math.sqrt(s)\n",
        "error_B = math.sqrt(s1)\n",
        "error_C = math.sqrt(s2)\n",
        "error_d = math.sqrt(s3)\n",
        "error_e = math.sqrt(s4)\n",
        "#print(\"خطا در حالت استفاده از حق بیمه معمولی:\", error_A)\n",
        "print(\"خطا در حالت استفاده از حق بیمه وانگ:\", error_B)\n",
        "print(\"خطا در حالت استفاده از حق بیمه ارزش مورد انتظار:\", error_C)\n",
        "print(' خطادر حالت استفاده از حق بیمه واریانس',error_d)\n",
        "print(' خطادر حالت استفاده از حق بیمه انحراف معیار',error_e)\n",
        "#print('مجموع حق بیمه ها حالت معمولی',u1)\n",
        "#print('مجموع مزایا', o)"
      ]
    },
    {
      "cell_type": "code",
      "execution_count": null,
      "metadata": {
        "colab": {
          "base_uri": "https://localhost:8080/"
        },
        "id": "gIk6ZoWZIZzO",
        "outputId": "e9d91d60-1818-4f3e-ad7d-c38abfd1bab2"
      },
      "outputs": [
        {
          "name": "stdout",
          "output_type": "stream",
          "text": [
            "-1181.1255726313427\n"
          ]
        }
      ],
      "source": [
        "mio = 200\n",
        "sigma2 = 1000\n",
        "random_number1=np.random.normal(mio,sigma2)\n",
        "\n",
        "\n",
        "expo = mio\n",
        "var = sigma2\n",
        "print(random_number1)"
      ]
    },
    {
      "cell_type": "code",
      "execution_count": null,
      "metadata": {
        "colab": {
          "base_uri": "https://localhost:8080/"
        },
        "id": "ZopUtP6lJGTh",
        "outputId": "6ed3d438-53f9-4761-829c-1339b913ab2c"
      },
      "outputs": [
        {
          "name": "stdout",
          "output_type": "stream",
          "text": [
            "خطا در حالت استفاده از حق بیمه وانگ: 379.8126044794624\n",
            "خطا در حالت استفاده از حق بیمه ارزش مورد انتظار: 486.11963109043796\n",
            " خطادر حالت استفاده از حق بیمه واریانس 2591.2362114092853\n",
            " خطادر حالت استفاده از حق بیمه انحراف معیار 452.2450940247786\n",
            "مجموع حق بیمه ها حالت معمولی 832976.8220405729\n",
            "مجموع مزایا 50003596\n"
          ]
        }
      ],
      "source": [
        "#import random\n",
        "# تولید داده فرضی 100 تایی با شرایط جدید\n",
        "num_samples = 10000\n",
        "gender_random = np.random.randint(0, 2, num_samples)\n",
        "age_random = np.random.randint(5, 79, num_samples)\n",
        "smoker_random = np.random.randint(0, 2, num_samples)\n",
        "job_random = np.random.randint(0, 2, num_samples)\n",
        "disease_random = np.random.randint(0, 2, num_samples)\n",
        "duration_random = np.array([np.random.randint(1, 80 - age_random[i]) for i in range(num_samples)])\n",
        "benefit_random = np.random.randint(100, 10000, num_samples)\n",
        "\n",
        "data_new = pd.DataFrame({\n",
        "    'Gender': gender_random\n",
        "    ,'Age': age_random,\n",
        "    'Smoker': smoker_random, 'Jobs': job_random ,\n",
        "    'Disease': disease_random,\n",
        "    'Duration': duration_random,\n",
        "    'Benefit': benefit_random\n",
        "})\n",
        "\n",
        "# پیش‌بینی λ برای داده‌های جدید\n",
        "landaa_new = []\n",
        "for i in range(num_samples):\n",
        "    landa_new = predict_landa_xgb(data_new['Gender'][i],data_new['Age'][i], data_new['Smoker'][i],data_new['Jobs'][i] ,data_new['Disease'][i], data_new['Duration'][i], data_new['Benefit'][i])\n",
        "    landaa_new.append(landa_new)\n",
        "\n",
        "# محاسبه G_all و G_star برای داده‌های جدید\n",
        "G_all_new = []\n",
        "G_star_new = []\n",
        "o=0\n",
        "for i in range(num_samples):\n",
        "    gender= data_new['Gender'][i]\n",
        "    age = data_new['Age'][i]\n",
        "    smoker = data_new['Smoker'][i]\n",
        "    job = data_new['Jobs'][i]\n",
        "    disease = data_new['Disease'][i]\n",
        "    duration = data_new['Duration'][i]\n",
        "    benefit = data_new['Benefit'][i]\n",
        "    landa = landaa_new[i]\n",
        "    o+= benefit\n",
        "\n",
        "    # محاسبه G_star\n",
        "    t = 0\n",
        "    z=0\n",
        "    s=0\n",
        "    for k in range(0, duration):\n",
        "        t += d(v, k+1) * p_star(age, k, landa) * q_star(age+k, 1, landa)\n",
        "        z += d(v, k+1) * p(age, k) * q(age+k, 1)\n",
        "    Ax_star = t\n",
        "    Ax = z\n",
        "    r = 0\n",
        "    for k in range(0, duration):\n",
        "        r += d(v, k) * p_star(age, k, landa)\n",
        "        s += d(v, k) * p(age, k)\n",
        "    ax_star = r\n",
        "    ax = s\n",
        "    G_star = (Ax_star / ax_star) * benefit\n",
        "    G = (Ax / ax) * benefit\n",
        "    G_star_new.append(G_star)\n",
        "\n",
        "    # محاسبه G_all\n",
        "    G_all = G + 0.002 * benefit + G * 0.2 * smoker + G * 0.5 * disease + G * 0.3 * job\n",
        "    G_all_new.append(G_all)\n",
        "\n",
        "# محاسبه خطا با استفاده از توزیع پارتو\n",
        "mio = 5\n",
        "sigma2 = 1\n",
        "random_number1=np.random.lognormal(mio,sigma2,num_samples)\n",
        "\n",
        "\n",
        "expo = math.exp(mio + (sigma2)/2)\n",
        "var = (math.exp(sigma2) - 1) * (math.exp(2 * mio + sigma2))\n",
        "A = [] # خطا برای G_all\n",
        "B = [] # خطا برای G_star\n",
        "u1=0\n",
        "u2=0\n",
        "\n",
        "C = [] # حق بیمه با اصل ارزش مورد انتظار\n",
        "D = [] # حق بیمه با اصل واریانس\n",
        "E = []\n",
        "for i in range(num_samples):\n",
        "    e = G_all_new[i]\n",
        "    w = G_star_new[i]\n",
        "    f1 = expo * 2.5\n",
        "    f2 = expo + var * 0.025\n",
        "    f3 = expo + math.sqrt(var) * 1\n",
        "    #A.append((random_number1[i]  - e) ** 2)\n",
        "    B.append((random_number1[i]  - w) ** 2)\n",
        "    C.append((random_number1[i] - f1) ** 2)\n",
        "    D.append((random_number1[i] - f2) ** 2)\n",
        "    E.append((random_number1[i] - f3) ** 2)\n",
        "    u1 += e\n",
        "    u2 += w\n",
        "\n",
        "\n",
        "#s = sum(A) / num_samples\n",
        "s1 = sum(B) / num_samples\n",
        "s2 = sum(C) / num_samples\n",
        "s3 = sum(D) / num_samples\n",
        "s4 = sum(E) / num_samples\n",
        "#error_A = math.sqrt(s)\n",
        "error_B = math.sqrt(s1)\n",
        "error_C = math.sqrt(s2)\n",
        "error_d = math.sqrt(s3)\n",
        "error_e = math.sqrt(s4)\n",
        "#print(\"خطا در حالت استفاده از حق بیمه معمولی:\", error_A)\n",
        "print(\"خطا در حالت استفاده از حق بیمه وانگ:\", error_B)\n",
        "print(\"خطا در حالت استفاده از حق بیمه ارزش مورد انتظار:\", error_C)\n",
        "print(' خطادر حالت استفاده از حق بیمه واریانس',error_d)\n",
        "print(' خطادر حالت استفاده از حق بیمه انحراف معیار',error_e)\n",
        "print('مجموع حق بیمه ها حالت معمولی',u1)\n",
        "print('مجموع مزایا', o)"
      ]
    },
    {
      "cell_type": "code",
      "execution_count": null,
      "metadata": {
        "colab": {
          "base_uri": "https://localhost:8080/"
        },
        "id": "3O77OxKYLy8I",
        "outputId": "df73f798-2e10-4b57-c7d8-fb3baae4bfc9"
      },
      "outputs": [
        {
          "name": "stdout",
          "output_type": "stream",
          "text": [
            "18.07633740054999\n",
            "90.01713130052181\n",
            "13923.381867231332\n"
          ]
        }
      ],
      "source": [
        "mio = 4\n",
        "sigma2 = 1\n",
        "random_number1=np.random.lognormal(4,1)\n",
        "\n",
        "\n",
        "expo = math.exp(mio + (sigma2)/2)\n",
        "var = (math.exp(sigma2) - 1) * (math.exp(2 * mio + sigma2))\n",
        "print(random_number1)\n",
        "print(expo)\n",
        "print(var)"
      ]
    }
  ],
  "metadata": {
    "colab": {
      "provenance": [],
      "mount_file_id": "1e6X7kCmUTNx5IVPrIzuOIibre3GpCq-X",
      "authorship_tag": "ABX9TyNXKpm0S8m8B+HcCEc07Vkk",
      "include_colab_link": true
    },
    "kernelspec": {
      "display_name": "Python 3",
      "name": "python3"
    },
    "language_info": {
      "name": "python"
    }
  },
  "nbformat": 4,
  "nbformat_minor": 0
}