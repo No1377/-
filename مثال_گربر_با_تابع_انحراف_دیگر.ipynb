{
  "nbformat": 4,
  "nbformat_minor": 0,
  "metadata": {
    "colab": {
      "provenance": [],
      "authorship_tag": "ABX9TyMho6xbTTFgUBl7qEgzoorN",
      "include_colab_link": true
    },
    "kernelspec": {
      "name": "python3",
      "display_name": "Python 3"
    },
    "language_info": {
      "name": "python"
    }
  },
  "cells": [
    {
      "cell_type": "markdown",
      "metadata": {
        "id": "view-in-github",
        "colab_type": "text"
      },
      "source": [
        "<a href=\"https://colab.research.google.com/github/No1377/-/blob/main/%D9%85%D8%AB%D8%A7%D9%84_%DA%AF%D8%B1%D8%A8%D8%B1_%D8%A8%D8%A7_%D8%AA%D8%A7%D8%A8%D8%B9_%D8%A7%D9%86%D8%AD%D8%B1%D8%A7%D9%81_%D8%AF%DB%8C%DA%AF%D8%B1.ipynb\" target=\"_parent\"><img src=\"https://colab.research.google.com/assets/colab-badge.svg\" alt=\"Open In Colab\"/></a>"
      ]
    },
    {
      "cell_type": "code",
      "execution_count": null,
      "metadata": {
        "id": "Wne-_6ABF2VO"
      },
      "outputs": [],
      "source": [
        "import pandas as pd\n",
        "import math\n",
        "import io\n",
        "from scipy.stats import norm"
      ]
    },
    {
      "cell_type": "code",
      "source": [
        "i=0.04"
      ],
      "metadata": {
        "id": "79ioO_UvGHlF"
      },
      "execution_count": null,
      "outputs": []
    },
    {
      "cell_type": "code",
      "source": [
        "def d(k):\n",
        "  return (1/(1+i))**k"
      ],
      "metadata": {
        "id": "AcchBsJdGKFT"
      },
      "execution_count": null,
      "outputs": []
    },
    {
      "cell_type": "code",
      "source": [
        "# de moirre\n",
        "\n",
        "def p(x,k,w):\n",
        "  return (w-x-k)/(w-x)"
      ],
      "metadata": {
        "id": "m2Cxl0qVGOM6"
      },
      "execution_count": null,
      "outputs": []
    },
    {
      "cell_type": "code",
      "source": [
        "#Power"
      ],
      "metadata": {
        "id": "iu6eK8__Yjyb"
      },
      "execution_count": null,
      "outputs": []
    },
    {
      "cell_type": "code",
      "source": [
        "def p_star(x,k,w):\n",
        "  return  p(x,k,w) ** (0.8)"
      ],
      "metadata": {
        "id": "vJbNdvftGXcL"
      },
      "execution_count": null,
      "outputs": []
    },
    {
      "cell_type": "code",
      "source": [
        "def q(x,k,w):\n",
        "  return(1-p(x,k,w))"
      ],
      "metadata": {
        "id": "OSBZe9bcGa6i"
      },
      "execution_count": null,
      "outputs": []
    },
    {
      "cell_type": "code",
      "source": [
        "def q_star(x,k,w):\n",
        "  return(1-p_star(x,k,w))"
      ],
      "metadata": {
        "id": "bSdUHBKhGeiy"
      },
      "execution_count": null,
      "outputs": []
    },
    {
      "cell_type": "code",
      "source": [
        "t=0\n",
        "for k in range(0,10):\n",
        "   t+= d(k+1) * p(40,k,100) * q(40+k,1,100)\n",
        "\n",
        "Ax=t\n",
        "print(\"Ax is \", t)\n"
      ],
      "metadata": {
        "colab": {
          "base_uri": "https://localhost:8080/"
        },
        "id": "2K9NT9EeGi5K",
        "outputId": "cb6158d4-be5d-46d7-d4fd-4c68d99d53fb"
      },
      "execution_count": null,
      "outputs": [
        {
          "output_type": "stream",
          "name": "stdout",
          "text": [
            "Ax is  0.13518159632258392\n"
          ]
        }
      ]
    },
    {
      "cell_type": "code",
      "source": [
        "r=0\n",
        "for k in range(0,10):\n",
        "   r+= d(k) * p(40,k,100)\n",
        "ax=r\n",
        "print(\"ax is \", r)"
      ],
      "metadata": {
        "colab": {
          "base_uri": "https://localhost:8080/"
        },
        "id": "1BTnL6McGmSS",
        "outputId": "bfff47e8-7546-474c-ee8f-11005aa52454"
      },
      "execution_count": null,
      "outputs": [
        {
          "output_type": "stream",
          "name": "stdout",
          "text": [
            "ax is  7.848054837720509\n"
          ]
        }
      ]
    },
    {
      "cell_type": "code",
      "source": [
        "piA=Ax/ax\n",
        "\n",
        "print(piA)\n"
      ],
      "metadata": {
        "colab": {
          "base_uri": "https://localhost:8080/"
        },
        "id": "sj8kSw_oGmT4",
        "outputId": "fd1b5542-e63c-4161-d58a-9190a13f6395"
      },
      "execution_count": null,
      "outputs": [
        {
          "output_type": "stream",
          "name": "stdout",
          "text": [
            "0.01722485368894897\n"
          ]
        }
      ]
    },
    {
      "cell_type": "code",
      "source": [
        "t=0\n",
        "for k in range(0,10):\n",
        "   t+= d(k+1) * p_star(40,k,100) * q_star(40+k,1,100)\n",
        "Ax_star=t\n",
        "print(\"Ax_star is \", t)"
      ],
      "metadata": {
        "colab": {
          "base_uri": "https://localhost:8080/"
        },
        "id": "Z62JxKV-GuE6",
        "outputId": "d6909efc-877a-4475-d983-a3e067d4ee3b"
      },
      "execution_count": null,
      "outputs": [
        {
          "output_type": "stream",
          "name": "stdout",
          "text": [
            "Ax_star is  0.10995095646172373\n"
          ]
        }
      ]
    },
    {
      "cell_type": "code",
      "source": [
        "r=0\n",
        "for k in range(0,10):\n",
        "   r+= d(k) * p_star(40,k,100)\n",
        "ax_star=r\n",
        "print(\"ax_star is \", r)"
      ],
      "metadata": {
        "colab": {
          "base_uri": "https://localhost:8080/"
        },
        "id": "rfsxFV7WGuGp",
        "outputId": "93f50e5f-17f4-48f8-be26-13bd70e546ba"
      },
      "execution_count": null,
      "outputs": [
        {
          "output_type": "stream",
          "name": "stdout",
          "text": [
            "ax_star is  7.960464664034496\n"
          ]
        }
      ]
    },
    {
      "cell_type": "code",
      "source": [
        "pi_star=Ax_star/ax_star\n",
        "print(pi_star)"
      ],
      "metadata": {
        "colab": {
          "base_uri": "https://localhost:8080/"
        },
        "id": "SewjvgZzGz3h",
        "outputId": "9441dd23-1531-4c0e-acd6-dd7450d70bab"
      },
      "execution_count": null,
      "outputs": [
        {
          "output_type": "stream",
          "name": "stdout",
          "text": [
            "0.013812127947566161\n"
          ]
        }
      ]
    },
    {
      "cell_type": "code",
      "source": [
        "print(pi_star/piA)"
      ],
      "metadata": {
        "colab": {
          "base_uri": "https://localhost:8080/"
        },
        "id": "fw336k3jG28q",
        "outputId": "64645f86-0418-4625-b484-fb78053c761d"
      },
      "execution_count": null,
      "outputs": [
        {
          "output_type": "stream",
          "name": "stdout",
          "text": [
            "0.8018720040813858\n"
          ]
        }
      ]
    },
    {
      "cell_type": "code",
      "source": [
        "print(pi_star * 100000000)\n",
        "print(piA * 100000000)"
      ],
      "metadata": {
        "colab": {
          "base_uri": "https://localhost:8080/"
        },
        "id": "kBLLB2dEG7CK",
        "outputId": "b68bdf60-cc08-44e9-a786-7222bf4f14aa"
      },
      "execution_count": null,
      "outputs": [
        {
          "output_type": "stream",
          "name": "stdout",
          "text": [
            "1381212.7947566162\n",
            "1722485.368894897\n"
          ]
        }
      ]
    },
    {
      "cell_type": "code",
      "source": [
        "#Dual Power"
      ],
      "metadata": {
        "id": "yYRv3WNkYoej"
      },
      "execution_count": null,
      "outputs": []
    },
    {
      "cell_type": "code",
      "source": [
        "def p_star2(x,k,w):\n",
        "  return  1 - (1-p(x,k,w))**1.1"
      ],
      "metadata": {
        "id": "OuYvcbXHYrd7"
      },
      "execution_count": null,
      "outputs": []
    },
    {
      "cell_type": "code",
      "source": [
        "def q_star2(x,k,w):\n",
        "  return(1-p_star2(x,k,w))"
      ],
      "metadata": {
        "id": "MAiKu92tZJ1T"
      },
      "execution_count": null,
      "outputs": []
    },
    {
      "cell_type": "code",
      "source": [
        "t=0\n",
        "for k in range(0,10):\n",
        "   t+= d(k+1) * p_star2(40,k,100) * q_star2(40+k,1,100)\n",
        "Ax_star2=t\n",
        "print(\"Ax_star2 is \", t)"
      ],
      "metadata": {
        "colab": {
          "base_uri": "https://localhost:8080/"
        },
        "id": "WZxouCOTZjrg",
        "outputId": "d997db72-6e1c-400c-d486-1dd06b0f725b"
      },
      "execution_count": null,
      "outputs": [
        {
          "output_type": "stream",
          "name": "stdout",
          "text": [
            "Ax_star2 is  0.09190154101929893\n"
          ]
        }
      ]
    },
    {
      "cell_type": "code",
      "source": [
        "r=0\n",
        "for k in range(0,10):\n",
        "   r+= d(k) * p_star2(40,k,100)\n",
        "ax_star2=r\n",
        "print(\"ax_sta2 is \", r)"
      ],
      "metadata": {
        "colab": {
          "base_uri": "https://localhost:8080/"
        },
        "id": "Zb-GwHeDZrJI",
        "outputId": "a4e1d689-19d6-4b22-c200-f68cb834dfab"
      },
      "execution_count": null,
      "outputs": [
        {
          "output_type": "stream",
          "name": "stdout",
          "text": [
            "ax_sta2 is  7.971805678101701\n"
          ]
        }
      ]
    },
    {
      "cell_type": "code",
      "source": [
        "pi_star2=Ax_star2/ax_star2\n",
        "print(pi_star2)"
      ],
      "metadata": {
        "colab": {
          "base_uri": "https://localhost:8080/"
        },
        "id": "Oy9O8Q31ZvvI",
        "outputId": "5e954eb1-af5d-4848-c50c-6c3e5eab8de0"
      },
      "execution_count": null,
      "outputs": [
        {
          "output_type": "stream",
          "name": "stdout",
          "text": [
            "0.011528321779311502\n"
          ]
        }
      ]
    },
    {
      "cell_type": "code",
      "source": [
        "print(pi_star2/piA)"
      ],
      "metadata": {
        "colab": {
          "base_uri": "https://localhost:8080/"
        },
        "id": "sgK0nZLoZzb3",
        "outputId": "9e14f310-844b-4953-c321-02556d0b0d63"
      },
      "execution_count": null,
      "outputs": [
        {
          "output_type": "stream",
          "name": "stdout",
          "text": [
            "0.6692841627274768\n"
          ]
        }
      ]
    },
    {
      "cell_type": "code",
      "source": [
        "print(pi_star2 * 100000000)\n",
        "print(piA * 100000000)"
      ],
      "metadata": {
        "colab": {
          "base_uri": "https://localhost:8080/"
        },
        "id": "JDjNzPXSZ4Fn",
        "outputId": "64d97fc5-38bc-413a-de30-fc846cf734e2"
      },
      "execution_count": null,
      "outputs": [
        {
          "output_type": "stream",
          "name": "stdout",
          "text": [
            "1152832.1779311502\n",
            "1722485.368894897\n"
          ]
        }
      ]
    }
  ]
}